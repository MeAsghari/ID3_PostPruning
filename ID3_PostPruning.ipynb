{
 "cells": [
  {
   "cell_type": "markdown",
   "id": "7c44d1d5-e952-462c-a585-b2f11907b696",
   "metadata": {
    "pycharm": {
     "name": "#%%\n"
    }
   },
   "source": [
    "## **Imports**"
   ]
  },
  {
   "cell_type": "code",
   "execution_count": 1,
   "id": "d3266cb0-bc97-4764-940e-108e545c9c12",
   "metadata": {},
   "outputs": [],
   "source": [
    "import pandas as pd\n",
    "import numpy as np\n",
    "import matplotlib.pyplot as plt\n",
    "\n",
    "from sklearn.model_selection import train_test_split\n",
    "from sklearn.preprocessing import KBinsDiscretizer\n",
    "from sklearn.tree import plot_tree\n",
    "from graphviz import Digraph, nohtml\n",
    "\n",
    "from sklearn.metrics import accuracy_score\n",
    "\n",
    "import warnings\n",
    "warnings.filterwarnings('ignore')"
   ]
  },
  {
   "cell_type": "code",
   "execution_count": 2,
   "id": "107ee40a-1666-419a-ac44-0c4c2290f658",
   "metadata": {
    "tags": []
   },
   "outputs": [],
   "source": [
    "import os\n",
    "os.environ[\"PATH\"] += os.pathsep + 'C:/Users/Mahdi/anaconda3/Library/bin/Graphviz/bin/'"
   ]
  },
  {
   "cell_type": "markdown",
   "id": "44d832ee-a49c-44ac-9a2e-4a2b197282e5",
   "metadata": {},
   "source": [
    "## **Read Data**"
   ]
  },
  {
   "cell_type": "code",
   "execution_count": 3,
   "id": "31d21fb1-1e43-4e2b-b7ff-feb83dc07fd9",
   "metadata": {
    "pycharm": {
     "name": "#%%\n"
    }
   },
   "outputs": [
    {
     "data": {
      "text/html": [
       "<div>\n",
       "<style scoped>\n",
       "    .dataframe tbody tr th:only-of-type {\n",
       "        vertical-align: middle;\n",
       "    }\n",
       "\n",
       "    .dataframe tbody tr th {\n",
       "        vertical-align: top;\n",
       "    }\n",
       "\n",
       "    .dataframe thead th {\n",
       "        text-align: right;\n",
       "    }\n",
       "</style>\n",
       "<table border=\"1\" class=\"dataframe\">\n",
       "  <thead>\n",
       "    <tr style=\"text-align: right;\">\n",
       "      <th></th>\n",
       "      <th>sepallength</th>\n",
       "      <th>sepalwidth</th>\n",
       "      <th>petallength</th>\n",
       "      <th>petalwidth</th>\n",
       "      <th>class</th>\n",
       "    </tr>\n",
       "  </thead>\n",
       "  <tbody>\n",
       "    <tr>\n",
       "      <th>0</th>\n",
       "      <td>5.1</td>\n",
       "      <td>3.5</td>\n",
       "      <td>1.4</td>\n",
       "      <td>0.2</td>\n",
       "      <td>Iris-setosa</td>\n",
       "    </tr>\n",
       "    <tr>\n",
       "      <th>1</th>\n",
       "      <td>4.9</td>\n",
       "      <td>3.0</td>\n",
       "      <td>1.4</td>\n",
       "      <td>0.2</td>\n",
       "      <td>Iris-setosa</td>\n",
       "    </tr>\n",
       "    <tr>\n",
       "      <th>2</th>\n",
       "      <td>4.7</td>\n",
       "      <td>3.2</td>\n",
       "      <td>1.3</td>\n",
       "      <td>0.2</td>\n",
       "      <td>Iris-setosa</td>\n",
       "    </tr>\n",
       "    <tr>\n",
       "      <th>3</th>\n",
       "      <td>4.6</td>\n",
       "      <td>3.1</td>\n",
       "      <td>1.5</td>\n",
       "      <td>0.2</td>\n",
       "      <td>Iris-setosa</td>\n",
       "    </tr>\n",
       "    <tr>\n",
       "      <th>4</th>\n",
       "      <td>5.0</td>\n",
       "      <td>3.6</td>\n",
       "      <td>1.4</td>\n",
       "      <td>0.2</td>\n",
       "      <td>Iris-setosa</td>\n",
       "    </tr>\n",
       "    <tr>\n",
       "      <th>...</th>\n",
       "      <td>...</td>\n",
       "      <td>...</td>\n",
       "      <td>...</td>\n",
       "      <td>...</td>\n",
       "      <td>...</td>\n",
       "    </tr>\n",
       "    <tr>\n",
       "      <th>145</th>\n",
       "      <td>6.7</td>\n",
       "      <td>3.0</td>\n",
       "      <td>5.2</td>\n",
       "      <td>2.3</td>\n",
       "      <td>Iris-virginica</td>\n",
       "    </tr>\n",
       "    <tr>\n",
       "      <th>146</th>\n",
       "      <td>6.3</td>\n",
       "      <td>2.5</td>\n",
       "      <td>5.0</td>\n",
       "      <td>1.9</td>\n",
       "      <td>Iris-virginica</td>\n",
       "    </tr>\n",
       "    <tr>\n",
       "      <th>147</th>\n",
       "      <td>6.5</td>\n",
       "      <td>3.0</td>\n",
       "      <td>5.2</td>\n",
       "      <td>2.0</td>\n",
       "      <td>Iris-virginica</td>\n",
       "    </tr>\n",
       "    <tr>\n",
       "      <th>148</th>\n",
       "      <td>6.2</td>\n",
       "      <td>3.4</td>\n",
       "      <td>5.4</td>\n",
       "      <td>2.3</td>\n",
       "      <td>Iris-virginica</td>\n",
       "    </tr>\n",
       "    <tr>\n",
       "      <th>149</th>\n",
       "      <td>5.9</td>\n",
       "      <td>3.0</td>\n",
       "      <td>5.1</td>\n",
       "      <td>1.8</td>\n",
       "      <td>Iris-virginica</td>\n",
       "    </tr>\n",
       "  </tbody>\n",
       "</table>\n",
       "<p>150 rows × 5 columns</p>\n",
       "</div>"
      ],
      "text/plain": [
       "     sepallength  sepalwidth  petallength  petalwidth           class\n",
       "0            5.1         3.5          1.4         0.2     Iris-setosa\n",
       "1            4.9         3.0          1.4         0.2     Iris-setosa\n",
       "2            4.7         3.2          1.3         0.2     Iris-setosa\n",
       "3            4.6         3.1          1.5         0.2     Iris-setosa\n",
       "4            5.0         3.6          1.4         0.2     Iris-setosa\n",
       "..           ...         ...          ...         ...             ...\n",
       "145          6.7         3.0          5.2         2.3  Iris-virginica\n",
       "146          6.3         2.5          5.0         1.9  Iris-virginica\n",
       "147          6.5         3.0          5.2         2.0  Iris-virginica\n",
       "148          6.2         3.4          5.4         2.3  Iris-virginica\n",
       "149          5.9         3.0          5.1         1.8  Iris-virginica\n",
       "\n",
       "[150 rows x 5 columns]"
      ]
     },
     "execution_count": 3,
     "metadata": {},
     "output_type": "execute_result"
    }
   ],
   "source": [
    "data = pd.read_csv('data/iris.csv')\n",
    "data"
   ]
  },
  {
   "cell_type": "code",
   "execution_count": 4,
   "id": "d022e444-e050-4713-b067-5fb13204366b",
   "metadata": {},
   "outputs": [
    {
     "data": {
      "text/plain": [
       "sepallength    float64\n",
       "sepalwidth     float64\n",
       "petallength    float64\n",
       "petalwidth     float64\n",
       "class           object\n",
       "dtype: object"
      ]
     },
     "execution_count": 4,
     "metadata": {},
     "output_type": "execute_result"
    }
   ],
   "source": [
    "data.dtypes"
   ]
  },
  {
   "cell_type": "markdown",
   "id": "d74a3632-125e-42d9-800c-c46b2f01b178",
   "metadata": {},
   "source": [
    "### *Casting object feature to category feature*"
   ]
  },
  {
   "cell_type": "code",
   "execution_count": 5,
   "id": "60ff02d4-50f9-401f-a6ce-ef0ebb847672",
   "metadata": {},
   "outputs": [
    {
     "data": {
      "text/plain": [
       "sepallength     float64\n",
       "sepalwidth      float64\n",
       "petallength     float64\n",
       "petalwidth      float64\n",
       "class          category\n",
       "dtype: object"
      ]
     },
     "execution_count": 5,
     "metadata": {},
     "output_type": "execute_result"
    }
   ],
   "source": [
    "obj_features = data.select_dtypes('object').columns\n",
    "data[obj_features] = data[obj_features].astype('category')\n",
    "data.dtypes"
   ]
  },
  {
   "cell_type": "markdown",
   "id": "2f179ff1-e137-4db6-b4ed-4ae5e3b9255c",
   "metadata": {},
   "source": [
    "## **Handling Missing Values**"
   ]
  },
  {
   "cell_type": "code",
   "execution_count": 6,
   "id": "bfe555d0-4c6d-4bff-b615-d9872ce5ffe9",
   "metadata": {},
   "outputs": [
    {
     "data": {
      "text/plain": [
       "sepallength    0\n",
       "sepalwidth     0\n",
       "petallength    0\n",
       "petalwidth     0\n",
       "class          0\n",
       "dtype: int64"
      ]
     },
     "execution_count": 6,
     "metadata": {},
     "output_type": "execute_result"
    }
   ],
   "source": [
    "data.isnull().sum()"
   ]
  },
  {
   "cell_type": "markdown",
   "id": "4fefaa3b-6d4d-4331-94b0-64e81170cb04",
   "metadata": {},
   "source": [
    "## **Look The Features**"
   ]
  },
  {
   "cell_type": "code",
   "execution_count": 7,
   "id": "69b9bf11-599f-45a2-a8b5-078dba330351",
   "metadata": {},
   "outputs": [
    {
     "data": {
      "text/html": [
       "<div>\n",
       "<style scoped>\n",
       "    .dataframe tbody tr th:only-of-type {\n",
       "        vertical-align: middle;\n",
       "    }\n",
       "\n",
       "    .dataframe tbody tr th {\n",
       "        vertical-align: top;\n",
       "    }\n",
       "\n",
       "    .dataframe thead th {\n",
       "        text-align: right;\n",
       "    }\n",
       "</style>\n",
       "<table border=\"1\" class=\"dataframe\">\n",
       "  <thead>\n",
       "    <tr style=\"text-align: right;\">\n",
       "      <th></th>\n",
       "      <th>sepallength</th>\n",
       "      <th>sepalwidth</th>\n",
       "      <th>petallength</th>\n",
       "      <th>petalwidth</th>\n",
       "      <th>class</th>\n",
       "    </tr>\n",
       "  </thead>\n",
       "  <tbody>\n",
       "    <tr>\n",
       "      <th>count</th>\n",
       "      <td>150.000000</td>\n",
       "      <td>150.000000</td>\n",
       "      <td>150.000000</td>\n",
       "      <td>150.000000</td>\n",
       "      <td>150</td>\n",
       "    </tr>\n",
       "    <tr>\n",
       "      <th>unique</th>\n",
       "      <td>NaN</td>\n",
       "      <td>NaN</td>\n",
       "      <td>NaN</td>\n",
       "      <td>NaN</td>\n",
       "      <td>3</td>\n",
       "    </tr>\n",
       "    <tr>\n",
       "      <th>top</th>\n",
       "      <td>NaN</td>\n",
       "      <td>NaN</td>\n",
       "      <td>NaN</td>\n",
       "      <td>NaN</td>\n",
       "      <td>Iris-setosa</td>\n",
       "    </tr>\n",
       "    <tr>\n",
       "      <th>freq</th>\n",
       "      <td>NaN</td>\n",
       "      <td>NaN</td>\n",
       "      <td>NaN</td>\n",
       "      <td>NaN</td>\n",
       "      <td>50</td>\n",
       "    </tr>\n",
       "    <tr>\n",
       "      <th>mean</th>\n",
       "      <td>5.843333</td>\n",
       "      <td>3.054000</td>\n",
       "      <td>3.758667</td>\n",
       "      <td>1.198667</td>\n",
       "      <td>NaN</td>\n",
       "    </tr>\n",
       "    <tr>\n",
       "      <th>std</th>\n",
       "      <td>0.828066</td>\n",
       "      <td>0.433594</td>\n",
       "      <td>1.764420</td>\n",
       "      <td>0.763161</td>\n",
       "      <td>NaN</td>\n",
       "    </tr>\n",
       "    <tr>\n",
       "      <th>min</th>\n",
       "      <td>4.300000</td>\n",
       "      <td>2.000000</td>\n",
       "      <td>1.000000</td>\n",
       "      <td>0.100000</td>\n",
       "      <td>NaN</td>\n",
       "    </tr>\n",
       "    <tr>\n",
       "      <th>25%</th>\n",
       "      <td>5.100000</td>\n",
       "      <td>2.800000</td>\n",
       "      <td>1.600000</td>\n",
       "      <td>0.300000</td>\n",
       "      <td>NaN</td>\n",
       "    </tr>\n",
       "    <tr>\n",
       "      <th>50%</th>\n",
       "      <td>5.800000</td>\n",
       "      <td>3.000000</td>\n",
       "      <td>4.350000</td>\n",
       "      <td>1.300000</td>\n",
       "      <td>NaN</td>\n",
       "    </tr>\n",
       "    <tr>\n",
       "      <th>75%</th>\n",
       "      <td>6.400000</td>\n",
       "      <td>3.300000</td>\n",
       "      <td>5.100000</td>\n",
       "      <td>1.800000</td>\n",
       "      <td>NaN</td>\n",
       "    </tr>\n",
       "    <tr>\n",
       "      <th>max</th>\n",
       "      <td>7.900000</td>\n",
       "      <td>4.400000</td>\n",
       "      <td>6.900000</td>\n",
       "      <td>2.500000</td>\n",
       "      <td>NaN</td>\n",
       "    </tr>\n",
       "  </tbody>\n",
       "</table>\n",
       "</div>"
      ],
      "text/plain": [
       "        sepallength  sepalwidth  petallength  petalwidth        class\n",
       "count    150.000000  150.000000   150.000000  150.000000          150\n",
       "unique          NaN         NaN          NaN         NaN            3\n",
       "top             NaN         NaN          NaN         NaN  Iris-setosa\n",
       "freq            NaN         NaN          NaN         NaN           50\n",
       "mean       5.843333    3.054000     3.758667    1.198667          NaN\n",
       "std        0.828066    0.433594     1.764420    0.763161          NaN\n",
       "min        4.300000    2.000000     1.000000    0.100000          NaN\n",
       "25%        5.100000    2.800000     1.600000    0.300000          NaN\n",
       "50%        5.800000    3.000000     4.350000    1.300000          NaN\n",
       "75%        6.400000    3.300000     5.100000    1.800000          NaN\n",
       "max        7.900000    4.400000     6.900000    2.500000          NaN"
      ]
     },
     "execution_count": 7,
     "metadata": {},
     "output_type": "execute_result"
    }
   ],
   "source": [
    "data.describe(include='all')"
   ]
  },
  {
   "cell_type": "code",
   "execution_count": 8,
   "id": "1001a307-e299-46f6-bac4-cec7868cd403",
   "metadata": {},
   "outputs": [
    {
     "data": {
      "image/png": "[encoded data removed]",
      "text/plain": [
       "<Figure size 864x432 with 6 Axes>"
      ]
     },
     "metadata": {
      "needs_background": "light"
     },
     "output_type": "display_data"
    }
   ],
   "source": [
    "fig , ax = plt.subplots(2 , 3 , figsize=(12 , 6))\n",
    "flat_ax = ax.flatten()\n",
    "plt.tight_layout(h_pad=2, w_pad=1)\n",
    "features = data.columns\n",
    "for i , feature in enumerate(features):\n",
    "    unq_values = data[feature].value_counts().values\n",
    "    unq_index  = data[feature].value_counts().index\n",
    "    flat_ax[i].bar(unq_index , unq_values , color='b')\n",
    "    flat_ax[i].set_title(f'{feature}' , fontfamily='Serif',fontweight='bold')"
   ]
  },
  {
   "cell_type": "markdown",
   "id": "5a87fb4e-a722-4232-9c8e-600bb090c924",
   "metadata": {},
   "source": [
    "## **Split data to Train AND Test**"
   ]
  },
  {
   "cell_type": "code",
   "execution_count": 9,
   "id": "a7818512-a146-4533-baf1-34d196ef5509",
   "metadata": {},
   "outputs": [
    {
     "data": {
      "text/plain": [
       "((120, 5), (30, 5))"
      ]
     },
     "execution_count": 9,
     "metadata": {},
     "output_type": "execute_result"
    }
   ],
   "source": [
    "train_set , test_set = train_test_split(data , test_size=0.2 , random_state=10)\n",
    "train_set.shape ,  test_set.shape       "
   ]
  },
  {
   "cell_type": "markdown",
   "id": "7e26abe4-8b05-4784-9e3a-caca7777eee8",
   "metadata": {},
   "source": [
    "## **Entropy & Gain Ratio**"
   ]
  },
  {
   "cell_type": "code",
   "execution_count": 10,
   "id": "b560c319-edac-44aa-8f22-2e9aef089bfb",
   "metadata": {
    "pycharm": {
     "name": "#%%\n"
    }
   },
   "outputs": [],
   "source": [
    "def entropy(labels):\n",
    "    p = labels.value_counts() / len(labels)\n",
    "    epsilon = 0.000001\n",
    "    return -sum(p * np.log2(p+epsilon))"
   ]
  },
  {
   "cell_type": "code",
   "execution_count": 11,
   "id": "a6ec6fcf-ad26-47a5-b872-97c5070be514",
   "metadata": {
    "pycharm": {
     "name": "#%%\n"
    }
   },
   "outputs": [
    {
     "data": {
      "text/plain": [
       "1.5822505777302804"
      ]
     },
     "execution_count": 11,
     "metadata": {},
     "output_type": "execute_result"
    }
   ],
   "source": [
    "entropy(train_set['class'])"
   ]
  },
  {
   "cell_type": "code",
   "execution_count": 12,
   "id": "6b6d2a2c-ad14-4dc6-8a97-d01342504e08",
   "metadata": {
    "pycharm": {
     "name": "#%%\n"
    }
   },
   "outputs": [],
   "source": [
    "def gain_ratio(data , feature , target):\n",
    "    e_parent = entropy(data[target])\n",
    "    e_child = 0\n",
    "    si = 0\n",
    "    for value in data[feature].unique():\n",
    "        \n",
    "        if value in data[feature].value_counts().index:\n",
    "            subset = data[data[feature]==value]\n",
    "        else:\n",
    "            subset = data[data[feature].isnull()]\n",
    "            \n",
    "        if len(subset) == 0:\n",
    "            return 0\n",
    "        \n",
    "        w = len(subset) / len(data)\n",
    "        e_child += w * entropy(subset[target])\n",
    "        \n",
    "        si += -(w * np.log2(w))\n",
    "        info_gain =  e_parent - e_child\n",
    "    return info_gain / si"
   ]
  },
  {
   "cell_type": "markdown",
   "id": "ac77aed4-c955-4825-b8af-ee11d2126e39",
   "metadata": {},
   "source": [
    "## **Best Threshold**"
   ]
  },
  {
   "cell_type": "code",
   "execution_count": 13,
   "id": "3c2f659e-0353-445f-b864-092d057a7ccf",
   "metadata": {},
   "outputs": [],
   "source": [
    "def best_threshold(data , target):\n",
    "    \n",
    "    train_set = data.copy()\n",
    "    kb = KBinsDiscretizer(n_bins=3 , encode='ordinal' , strategy='uniform')\n",
    "    fatures_for_transform = train_set.select_dtypes('float64').columns\n",
    "    train_set[fatures_for_transform] = kb.fit_transform(train_set[fatures_for_transform])\n",
    "\n",
    "    # select discritization features\n",
    "    columns = train_set.drop(target, axis=1).select_dtypes('float').columns\n",
    "    best_thresh = {}\n",
    "\n",
    "    for i , column in enumerate(columns):\n",
    "    \n",
    "        # Calculated Entropy of Parent\n",
    "        entropy_parent = entropy(data[target])\n",
    "        \n",
    "        # Select Threshold\n",
    "        gain_ratio_for_threshs=[]\n",
    "        for thresh in np.unique(train_set[column]):\n",
    "            result = np.where(train_set[column] <= thresh , 1 , 0)\n",
    "        \n",
    "            # Convert result and target to dataframe for Calculate Information Gain\n",
    "            labels = train_set[target].values\n",
    "            dataframe = pd.DataFrame(np.c_[result , labels] , columns=['feature','labels'])\n",
    "            \n",
    "            # Calculated Information Gain for each part\n",
    "            gain_rat = gain_ratio(dataframe , 'feature' , 'labels')\n",
    "            gain_ratio_for_threshs.append(gain_rat)\n",
    "            \n",
    "        best_thresh[column] = kb.bin_edges_[i][np.argmax(gain_ratio_for_threshs)]\n",
    "    return best_thresh"
   ]
  },
  {
   "cell_type": "code",
   "execution_count": 14,
   "id": "b96bc01c-3f1c-46b3-983a-db6962c74321",
   "metadata": {},
   "outputs": [],
   "source": [
    "def gain_ratio_for_numerical(data , feature , target):\n",
    "    entropy_parent = entropy(data[target])\n",
    "    entropy_child  = 0\n",
    "    \n",
    "    best_thresh = best_threshold(data , target)\n",
    "    result = np.where(data[feature] <= best_thresh[feature], 1 , 0)\n",
    "    labels = data[target].values\n",
    "    \n",
    "    dataframe = pd.DataFrame(np.c_[result , labels] , columns=['feature','labels'])\n",
    "    \n",
    "    gr = gain_ratio(dataframe , 'feature' , 'labels')\n",
    "    return gr"
   ]
  },
  {
   "cell_type": "code",
   "execution_count": 15,
   "id": "e9da2158-742f-4a0f-81d6-b93aebd27b5a",
   "metadata": {},
   "outputs": [
    {
     "name": "stdout",
     "output_type": "stream",
     "text": [
      "Gain Ratio for sepallength is 0.26\n",
      "Gain Ratio for sepalwidth is 0.26\n",
      "Gain Ratio for petallength is 0.70\n",
      "Gain Ratio for petalwidth is 0.73\n"
     ]
    }
   ],
   "source": [
    "for feature in train_set.select_dtypes('float').columns:\n",
    "    \n",
    "    gr = gain_ratio_for_numerical(train_set , feature , 'class')\n",
    "    \n",
    "    print(f'Gain Ratio for {feature} is {gr:.2f}')"
   ]
  },
  {
   "cell_type": "markdown",
   "id": "672c865e-d688-4bc5-8ba8-e99234d29a32",
   "metadata": {},
   "source": [
    "## **Define Node**"
   ]
  },
  {
   "cell_type": "code",
   "execution_count": 16,
   "id": "efc11be0-49db-438b-a4f5-40e430bf2fee",
   "metadata": {
    "pycharm": {
     "name": "#%%\n"
    }
   },
   "outputs": [],
   "source": [
    "class Node:\n",
    "    \n",
    "    def __init__(self , feature=None , label=None):\n",
    "        self.feature = feature\n",
    "        self.label = label\n",
    "        self.children = {}\n",
    "        \n",
    "    def __repr__(self):\n",
    "        if self.feature is not None:\n",
    "            return f'DecisionNode(feature=\"{self.feature}\", children={self.children})'\n",
    "        else:\n",
    "            return f'LeafNode(label=\"{self.label}\")'"
   ]
  },
  {
   "cell_type": "markdown",
   "id": "02baf007-9e88-40de-94dd-3c2e52c45f86",
   "metadata": {},
   "source": [
    "## **Define Model with PrePruning \"max_depth\" and \"min_leaf_size\" and \"min_sample_split\"**"
   ]
  },
  {
   "cell_type": "code",
   "execution_count": 17,
   "id": "225cf528-7542-476b-8a73-dcc1e942454c",
   "metadata": {},
   "outputs": [],
   "source": [
    "def make_tree(data, target , depth , min_leaf_size , min_sample_split ,  count=0):\n",
    "    \n",
    "    # leaf node?\n",
    "    if len(data[target].unique()) == 1 or len(data[target]) <= min_leaf_size or count >= depth:\n",
    "        return Node(label=data[target].iloc[0])\n",
    "    \n",
    "    features = data.drop(target, axis=1).columns\n",
    "    if len(features) == 0 or len(data) == 0:\n",
    "        return Node(label=data[target].mode()[0])\n",
    "    \n",
    "    \n",
    "    \n",
    "    # calculate information gain\n",
    "    gains = []\n",
    "    \n",
    "    for feature in features:\n",
    "        if data[feature].dtype == 'float':\n",
    "            gains.append(gain_ratio_for_numerical(data , feature , target))\n",
    "            \n",
    "        else:\n",
    "            gains.append(gain_ratio(data, feature, target))\n",
    "    \n",
    "    # greedy search to find best feature\n",
    "    max_gain_idx = np.argmax(gains)\n",
    "    best_feature = features[max_gain_idx]\n",
    "\n",
    "    \n",
    "    # best threshold on numerical features\n",
    "    if data[best_feature].dtype == 'float':\n",
    "        best_t = best_threshold(data , target)\n",
    "    \n",
    "    # make a node\n",
    "    if len(data[best_feature]) >= min_sample_split:\n",
    "        node = Node(feature=best_feature)\n",
    "    else:\n",
    "        return Node(label=data[target].mode()[0])\n",
    "    \n",
    "    # loop over the best feature\n",
    "    if data[best_feature].dtype == 'float':\n",
    "        \n",
    "        subset_down = data[data[best_feature] <= best_t[best_feature]].drop(best_feature, axis=1)\n",
    "        subset_up   = data[data[best_feature] > best_t[best_feature]].drop(best_feature, axis=1)\n",
    "        subsets = [subset_down , subset_up]\n",
    "    \n",
    "        node.children[f'<= {best_t[best_feature]:.2f}'] = make_tree(subset_down , target , depth , min_leaf_size , min_sample_split ,  count = count+1)\n",
    "        node.children[f'> {best_t[best_feature]:.2f}'] = make_tree(subset_up , target , depth , min_leaf_size , min_sample_split , count = count+1)\n",
    "        \n",
    "    else:\n",
    "        for value in data[best_feature].unique():\n",
    "            if value in data[best_feature].value_counts().index:\n",
    "                subset = data[data[best_feature] == value].drop(best_feature, axis=1)\n",
    "            else:\n",
    "                subset = data[data[best_feature].isnull()]\n",
    "        # display(subset)\n",
    "        \n",
    "            node.children[value] = make_tree(subset, target , depth , min_leaf_size , min_sample_split , count = count+1)\n",
    "            \n",
    "    return node"
   ]
  },
  {
   "cell_type": "code",
   "execution_count": 18,
   "id": "a7f69c6a-edfd-4882-adc1-2d128eed8a46",
   "metadata": {},
   "outputs": [
    {
     "data": {
      "text/plain": [
       "DecisionNode(feature=\"petalwidth\", children={'<= 1.70': DecisionNode(feature=\"petallength\", children={'<= 4.20': DecisionNode(feature=\"sepallength\", children={'<= 5.50': DecisionNode(feature=\"sepalwidth\", children={'<= 3.57': LeafNode(label=\"Iris-setosa\"), '> 3.57': LeafNode(label=\"Iris-setosa\")}), '> 5.50': DecisionNode(feature=\"sepalwidth\", children={'<= 3.67': LeafNode(label=\"Iris-versicolor\"), '> 3.67': LeafNode(label=\"Iris-setosa\")})}), '> 4.20': DecisionNode(feature=\"sepalwidth\", children={'<= 2.93': DecisionNode(feature=\"sepallength\", children={'<= 6.03': LeafNode(label=\"Iris-versicolor\"), '> 6.03': LeafNode(label=\"Iris-versicolor\")}), '> 2.93': DecisionNode(feature=\"sepallength\", children={'<= 6.60': LeafNode(label=\"Iris-versicolor\"), '> 6.60': LeafNode(label=\"Iris-versicolor\")})})}), '> 1.70': DecisionNode(feature=\"sepallength\", children={'<= 7.13': DecisionNode(feature=\"sepalwidth\", children={'<= 3.10': LeafNode(label=\"Iris-virginica\"), '> 3.10': DecisionNode(feature=\"petallength\", children={'<= 5.60': LeafNode(label=\"Iris-virginica\"), '> 5.60': LeafNode(label=\"Iris-virginica\")})}), '> 7.13': LeafNode(label=\"Iris-virginica\")})})"
      ]
     },
     "execution_count": 18,
     "metadata": {},
     "output_type": "execute_result"
    }
   ],
   "source": [
    "tree = make_tree(train_set , 'class' ,  depth=10  , min_leaf_size=1 , min_sample_split=1)\n",
    "tree"
   ]
  },
  {
   "cell_type": "markdown",
   "id": "95937fb6-6d78-4277-b0b8-067c79abaed8",
   "metadata": {},
   "source": [
    "## **Visualization**"
   ]
  },
  {
   "cell_type": "code",
   "execution_count": 19,
   "id": "1ff96ea0-ad84-4c57-8e29-e7ae0a51f3c7",
   "metadata": {},
   "outputs": [],
   "source": [
    "def plot_tree(tree , parent=None , node_id=None):\n",
    "    if node_id is None:\n",
    "        node_id = '0'\n",
    "        g = Digraph(node_attr={'shape': 'record' , 'height': '.1'})\n",
    "        g.node(node_id , label=tree.feature , style='filled' , fillcolor='burlywood')\n",
    "        \n",
    "    else:\n",
    "        g = parent\n",
    "        g.node(node_id , label = tree.feature , style='filled' , fillcolor='#a0522d')\n",
    "        \n",
    "    if len(tree.children) == 0:\n",
    "        g.node(node_id , label=tree.label , style='filled' , fillcolor='burlywood')\n",
    "        return g\n",
    "    \n",
    "    for i,(value , child) in enumerate(tree.children.items()):\n",
    "        child_id = f'{node_id}_{i+1}'\n",
    "        plot_tree(child , g , child_id)\n",
    "        g.edge(node_id , child_id , label=str(value))\n",
    "        \n",
    "    return g"
   ]
  },
  {
   "cell_type": "code",
   "execution_count": 20,
   "id": "53b3c779-ceb4-49c8-a19a-83ee0e1514d1",
   "metadata": {},
   "outputs": [
    {
     "data": {
      "image/svg+xml": [
       "<?xml version=\"1.0\" encoding=\"UTF-8\" standalone=\"no\"?>\n",
       "<!DOCTYPE svg PUBLIC \"-//W3C//DTD SVG 1.1//EN\"\n",
       " \"http://www.w3.org/Graphics/SVG/1.1/DTD/svg11.dtd\">\n",
       "<!-- Generated by graphviz version 9.0.0 (20230911.1827)\n",
       " -->\n",
       "<!-- Pages: 1 -->\n",
       "<svg width=\"1032pt\" height=\"339pt\"\n",
       " viewBox=\"0.00 0.00 1032.38 338.75\" xmlns=\"http://www.w3.org/2000/svg\" xmlns:xlink=\"http://www.w3.org/1999/xlink\">\n",
       "<g id=\"graph0\" class=\"graph\" transform=\"scale(1 1) rotate(0) translate(4 334.75)\">\n",
       "<polygon fill=\"white\" stroke=\"none\" points=\"-4,4 -4,-334.75 1028.38,-334.75 1028.38,4 -4,4\"/>\n",
       "<!-- 0 -->\n",
       "<g id=\"node1\" class=\"node\">\n",
       "<title>0</title>\n",
       "<polygon fill=\"burlywood\" stroke=\"black\" points=\"633.38,-306.5 633.38,-330.25 706.38,-330.25 706.38,-306.5 633.38,-306.5\"/>\n",
       "<text text-anchor=\"middle\" x=\"669.88\" y=\"-312.95\" font-family=\"Times New Roman,serif\" font-size=\"14.00\">petalwidth</text>\n",
       "</g>\n",
       "<!-- 0_1 -->\n",
       "<g id=\"node2\" class=\"node\">\n",
       "<title>0_1</title>\n",
       "<polygon fill=\"#a0522d\" stroke=\"black\" points=\"550.25,-230 550.25,-253.75 625.5,-253.75 625.5,-230 550.25,-230\"/>\n",
       "<text text-anchor=\"middle\" x=\"587.88\" y=\"-236.45\" font-family=\"Times New Roman,serif\" font-size=\"14.00\">petallength</text>\n",
       "</g>\n",
       "<!-- 0&#45;&gt;0_1 -->\n",
       "<g id=\"edge15\" class=\"edge\">\n",
       "<title>0&#45;&gt;0_1</title>\n",
       "<path fill=\"none\" stroke=\"black\" d=\"M657.42,-306.06C644.46,-294.29 623.95,-275.65 608.56,-261.66\"/>\n",
       "<polygon fill=\"black\" stroke=\"black\" points=\"611.05,-259.2 601.3,-255.07 606.35,-264.39 611.05,-259.2\"/>\n",
       "<text text-anchor=\"middle\" x=\"659\" y=\"-274.7\" font-family=\"Times New Roman,serif\" font-size=\"14.00\">&lt;= 1.70</text>\n",
       "</g>\n",
       "<!-- 0_2 -->\n",
       "<g id=\"node17\" class=\"node\">\n",
       "<title>0_2</title>\n",
       "<polygon fill=\"#a0522d\" stroke=\"black\" points=\"730.12,-230 730.12,-253.75 807.62,-253.75 807.62,-230 730.12,-230\"/>\n",
       "<text text-anchor=\"middle\" x=\"768.88\" y=\"-236.45\" font-family=\"Times New Roman,serif\" font-size=\"14.00\">sepallength</text>\n",
       "</g>\n",
       "<!-- 0&#45;&gt;0_2 -->\n",
       "<g id=\"edge22\" class=\"edge\">\n",
       "<title>0&#45;&gt;0_2</title>\n",
       "<path fill=\"none\" stroke=\"black\" d=\"M684.91,-306.06C700.85,-294.07 726.25,-274.95 744.94,-260.88\"/>\n",
       "<polygon fill=\"black\" stroke=\"black\" points=\"746.93,-263.77 752.81,-254.96 742.72,-258.18 746.93,-263.77\"/>\n",
       "<text text-anchor=\"middle\" x=\"746.88\" y=\"-274.7\" font-family=\"Times New Roman,serif\" font-size=\"14.00\">&gt; 1.70</text>\n",
       "</g>\n",
       "<!-- 0_1_1 -->\n",
       "<g id=\"node3\" class=\"node\">\n",
       "<title>0_1_1</title>\n",
       "<polygon fill=\"#a0522d\" stroke=\"black\" points=\"260.12,-153.5 260.12,-177.25 337.62,-177.25 337.62,-153.5 260.12,-153.5\"/>\n",
       "<text text-anchor=\"middle\" x=\"298.88\" y=\"-159.95\" font-family=\"Times New Roman,serif\" font-size=\"14.00\">sepallength</text>\n",
       "</g>\n",
       "<!-- 0_1&#45;&gt;0_1_1 -->\n",
       "<g id=\"edge7\" class=\"edge\">\n",
       "<title>0_1&#45;&gt;0_1_1</title>\n",
       "<path fill=\"none\" stroke=\"black\" d=\"M549.8,-231.06C498.21,-217.76 406.02,-194 348.9,-179.27\"/>\n",
       "<polygon fill=\"black\" stroke=\"black\" points=\"349.99,-175.94 339.43,-176.83 348.24,-182.71 349.99,-175.94\"/>\n",
       "<text text-anchor=\"middle\" x=\"492\" y=\"-198.2\" font-family=\"Times New Roman,serif\" font-size=\"14.00\">&lt;= 4.20</text>\n",
       "</g>\n",
       "<!-- 0_1_2 -->\n",
       "<g id=\"node10\" class=\"node\">\n",
       "<title>0_1_2</title>\n",
       "<polygon fill=\"#a0522d\" stroke=\"black\" points=\"550.25,-153.5 550.25,-177.25 625.5,-177.25 625.5,-153.5 550.25,-153.5\"/>\n",
       "<text text-anchor=\"middle\" x=\"587.88\" y=\"-159.95\" font-family=\"Times New Roman,serif\" font-size=\"14.00\">sepalwidth</text>\n",
       "</g>\n",
       "<!-- 0_1&#45;&gt;0_1_2 -->\n",
       "<g id=\"edge14\" class=\"edge\">\n",
       "<title>0_1&#45;&gt;0_1_2</title>\n",
       "<path fill=\"none\" stroke=\"black\" d=\"M587.88,-229.56C587.88,-218.71 587.88,-202.05 587.88,-188.55\"/>\n",
       "<polygon fill=\"black\" stroke=\"black\" points=\"591.38,-188.82 587.88,-178.82 584.38,-188.82 591.38,-188.82\"/>\n",
       "<text text-anchor=\"middle\" x=\"605.88\" y=\"-198.2\" font-family=\"Times New Roman,serif\" font-size=\"14.00\">&gt; 4.20</text>\n",
       "</g>\n",
       "<!-- 0_1_1_1 -->\n",
       "<g id=\"node4\" class=\"node\">\n",
       "<title>0_1_1_1</title>\n",
       "<polygon fill=\"#a0522d\" stroke=\"black\" points=\"91.25,-77 91.25,-100.75 166.5,-100.75 166.5,-77 91.25,-77\"/>\n",
       "<text text-anchor=\"middle\" x=\"128.88\" y=\"-83.45\" font-family=\"Times New Roman,serif\" font-size=\"14.00\">sepalwidth</text>\n",
       "</g>\n",
       "<!-- 0_1_1&#45;&gt;0_1_1_1 -->\n",
       "<g id=\"edge3\" class=\"edge\">\n",
       "<title>0_1_1&#45;&gt;0_1_1_1</title>\n",
       "<path fill=\"none\" stroke=\"black\" d=\"M273.06,-153.06C244.27,-140.44 197.49,-119.95 165.06,-105.73\"/>\n",
       "<polygon fill=\"black\" stroke=\"black\" points=\"166.61,-102.59 156.04,-101.78 163.8,-109 166.61,-102.59\"/>\n",
       "<text text-anchor=\"middle\" x=\"252\" y=\"-121.7\" font-family=\"Times New Roman,serif\" font-size=\"14.00\">&lt;= 5.50</text>\n",
       "</g>\n",
       "<!-- 0_1_1_2 -->\n",
       "<g id=\"node7\" class=\"node\">\n",
       "<title>0_1_1_2</title>\n",
       "<polygon fill=\"#a0522d\" stroke=\"black\" points=\"261.25,-77 261.25,-100.75 336.5,-100.75 336.5,-77 261.25,-77\"/>\n",
       "<text text-anchor=\"middle\" x=\"298.88\" y=\"-83.45\" font-family=\"Times New Roman,serif\" font-size=\"14.00\">sepalwidth</text>\n",
       "</g>\n",
       "<!-- 0_1_1&#45;&gt;0_1_1_2 -->\n",
       "<g id=\"edge6\" class=\"edge\">\n",
       "<title>0_1_1&#45;&gt;0_1_1_2</title>\n",
       "<path fill=\"none\" stroke=\"black\" d=\"M298.88,-153.06C298.88,-142.21 298.88,-125.55 298.88,-112.05\"/>\n",
       "<polygon fill=\"black\" stroke=\"black\" points=\"302.38,-112.32 298.88,-102.32 295.38,-112.32 302.38,-112.32\"/>\n",
       "<text text-anchor=\"middle\" x=\"316.88\" y=\"-121.7\" font-family=\"Times New Roman,serif\" font-size=\"14.00\">&gt; 5.50</text>\n",
       "</g>\n",
       "<!-- 0_1_1_1_1 -->\n",
       "<g id=\"node5\" class=\"node\">\n",
       "<title>0_1_1_1_1</title>\n",
       "<polygon fill=\"burlywood\" stroke=\"black\" points=\"0,-0.5 0,-24.25 73.75,-24.25 73.75,-0.5 0,-0.5\"/>\n",
       "<text text-anchor=\"middle\" x=\"36.88\" y=\"-6.95\" font-family=\"Times New Roman,serif\" font-size=\"14.00\">Iris&#45;setosa</text>\n",
       "</g>\n",
       "<!-- 0_1_1_1&#45;&gt;0_1_1_1_1 -->\n",
       "<g id=\"edge1\" class=\"edge\">\n",
       "<title>0_1_1_1&#45;&gt;0_1_1_1_1</title>\n",
       "<path fill=\"none\" stroke=\"black\" d=\"M107.92,-76.68C99.15,-71.6 89.05,-65.23 80.62,-58.5 71.11,-50.9 61.57,-41.35 53.84,-32.99\"/>\n",
       "<polygon fill=\"black\" stroke=\"black\" points=\"56.55,-30.77 47.26,-25.67 51.34,-35.45 56.55,-30.77\"/>\n",
       "<text text-anchor=\"middle\" x=\"103\" y=\"-45.2\" font-family=\"Times New Roman,serif\" font-size=\"14.00\">&lt;= 3.57</text>\n",
       "</g>\n",
       "<!-- 0_1_1_1_2 -->\n",
       "<g id=\"node6\" class=\"node\">\n",
       "<title>0_1_1_1_2</title>\n",
       "<polygon fill=\"burlywood\" stroke=\"black\" points=\"92,-0.5 92,-24.25 165.75,-24.25 165.75,-0.5 92,-0.5\"/>\n",
       "<text text-anchor=\"middle\" x=\"128.88\" y=\"-6.95\" font-family=\"Times New Roman,serif\" font-size=\"14.00\">Iris&#45;setosa</text>\n",
       "</g>\n",
       "<!-- 0_1_1_1&#45;&gt;0_1_1_1_2 -->\n",
       "<g id=\"edge2\" class=\"edge\">\n",
       "<title>0_1_1_1&#45;&gt;0_1_1_1_2</title>\n",
       "<path fill=\"none\" stroke=\"black\" d=\"M128.88,-76.56C128.88,-65.71 128.88,-49.05 128.88,-35.55\"/>\n",
       "<polygon fill=\"black\" stroke=\"black\" points=\"132.38,-35.82 128.88,-25.82 125.38,-35.82 132.38,-35.82\"/>\n",
       "<text text-anchor=\"middle\" x=\"146.88\" y=\"-45.2\" font-family=\"Times New Roman,serif\" font-size=\"14.00\">&gt; 3.57</text>\n",
       "</g>\n",
       "<!-- 0_1_1_2_1 -->\n",
       "<g id=\"node8\" class=\"node\">\n",
       "<title>0_1_1_2_1</title>\n",
       "<polygon fill=\"burlywood\" stroke=\"black\" points=\"183.88,-0.5 183.88,-24.25 277.88,-24.25 277.88,-0.5 183.88,-0.5\"/>\n",
       "<text text-anchor=\"middle\" x=\"230.88\" y=\"-6.95\" font-family=\"Times New Roman,serif\" font-size=\"14.00\">Iris&#45;versicolor</text>\n",
       "</g>\n",
       "<!-- 0_1_1_2&#45;&gt;0_1_1_2_1 -->\n",
       "<g id=\"edge4\" class=\"edge\">\n",
       "<title>0_1_1_2&#45;&gt;0_1_1_2_1</title>\n",
       "<path fill=\"none\" stroke=\"black\" d=\"M284.24,-76.53C277.92,-71.33 270.62,-64.91 264.62,-58.5 257.58,-50.96 250.61,-41.98 244.85,-34.02\"/>\n",
       "<polygon fill=\"black\" stroke=\"black\" points=\"247.76,-32.08 239.16,-25.9 242.03,-36.1 247.76,-32.08\"/>\n",
       "<text text-anchor=\"middle\" x=\"287\" y=\"-45.2\" font-family=\"Times New Roman,serif\" font-size=\"14.00\">&lt;= 3.67</text>\n",
       "</g>\n",
       "<!-- 0_1_1_2_2 -->\n",
       "<g id=\"node9\" class=\"node\">\n",
       "<title>0_1_1_2_2</title>\n",
       "<polygon fill=\"burlywood\" stroke=\"black\" points=\"296,-0.5 296,-24.25 369.75,-24.25 369.75,-0.5 296,-0.5\"/>\n",
       "<text text-anchor=\"middle\" x=\"332.88\" y=\"-6.95\" font-family=\"Times New Roman,serif\" font-size=\"14.00\">Iris&#45;setosa</text>\n",
       "</g>\n",
       "<!-- 0_1_1_2&#45;&gt;0_1_1_2_2 -->\n",
       "<g id=\"edge5\" class=\"edge\">\n",
       "<title>0_1_1_2&#45;&gt;0_1_1_2_2</title>\n",
       "<path fill=\"none\" stroke=\"black\" d=\"M304.04,-76.56C309.09,-65.49 316.91,-48.36 323.13,-34.73\"/>\n",
       "<polygon fill=\"black\" stroke=\"black\" points=\"326.29,-36.24 327.26,-25.69 319.92,-33.33 326.29,-36.24\"/>\n",
       "<text text-anchor=\"middle\" x=\"337.88\" y=\"-45.2\" font-family=\"Times New Roman,serif\" font-size=\"14.00\">&gt; 3.67</text>\n",
       "</g>\n",
       "<!-- 0_1_2_1 -->\n",
       "<g id=\"node11\" class=\"node\">\n",
       "<title>0_1_2_1</title>\n",
       "<polygon fill=\"#a0522d\" stroke=\"black\" points=\"508.12,-77 508.12,-100.75 585.62,-100.75 585.62,-77 508.12,-77\"/>\n",
       "<text text-anchor=\"middle\" x=\"546.88\" y=\"-83.45\" font-family=\"Times New Roman,serif\" font-size=\"14.00\">sepallength</text>\n",
       "</g>\n",
       "<!-- 0_1_2&#45;&gt;0_1_2_1 -->\n",
       "<g id=\"edge10\" class=\"edge\">\n",
       "<title>0_1_2&#45;&gt;0_1_2_1</title>\n",
       "<path fill=\"none\" stroke=\"black\" d=\"M581.65,-153.06C575.5,-141.88 565.94,-124.52 558.4,-110.82\"/>\n",
       "<polygon fill=\"black\" stroke=\"black\" points=\"561.51,-109.21 553.62,-102.14 555.38,-112.58 561.51,-109.21\"/>\n",
       "<text text-anchor=\"middle\" x=\"594\" y=\"-121.7\" font-family=\"Times New Roman,serif\" font-size=\"14.00\">&lt;= 2.93</text>\n",
       "</g>\n",
       "<!-- 0_1_2_2 -->\n",
       "<g id=\"node14\" class=\"node\">\n",
       "<title>0_1_2_2</title>\n",
       "<polygon fill=\"#a0522d\" stroke=\"black\" points=\"620.12,-77 620.12,-100.75 697.62,-100.75 697.62,-77 620.12,-77\"/>\n",
       "<text text-anchor=\"middle\" x=\"658.88\" y=\"-83.45\" font-family=\"Times New Roman,serif\" font-size=\"14.00\">sepallength</text>\n",
       "</g>\n",
       "<!-- 0_1_2&#45;&gt;0_1_2_2 -->\n",
       "<g id=\"edge13\" class=\"edge\">\n",
       "<title>0_1_2&#45;&gt;0_1_2_2</title>\n",
       "<path fill=\"none\" stroke=\"black\" d=\"M600.65,-153.26C606.64,-147.9 613.78,-141.28 619.88,-135 627.65,-126.99 635.79,-117.72 642.62,-109.68\"/>\n",
       "<polygon fill=\"black\" stroke=\"black\" points=\"645.22,-112.02 648.95,-102.11 639.85,-107.53 645.22,-112.02\"/>\n",
       "<text text-anchor=\"middle\" x=\"652.88\" y=\"-121.7\" font-family=\"Times New Roman,serif\" font-size=\"14.00\">&gt; 2.93</text>\n",
       "</g>\n",
       "<!-- 0_1_2_1_1 -->\n",
       "<g id=\"node12\" class=\"node\">\n",
       "<title>0_1_2_1_1</title>\n",
       "<polygon fill=\"burlywood\" stroke=\"black\" points=\"387.88,-0.5 387.88,-24.25 481.88,-24.25 481.88,-0.5 387.88,-0.5\"/>\n",
       "<text text-anchor=\"middle\" x=\"434.88\" y=\"-6.95\" font-family=\"Times New Roman,serif\" font-size=\"14.00\">Iris&#45;versicolor</text>\n",
       "</g>\n",
       "<!-- 0_1_2_1&#45;&gt;0_1_2_1_1 -->\n",
       "<g id=\"edge8\" class=\"edge\">\n",
       "<title>0_1_2_1&#45;&gt;0_1_2_1_1</title>\n",
       "<path fill=\"none\" stroke=\"black\" d=\"M527.9,-76.73C518.93,-71.37 508.13,-64.75 498.62,-58.5 485.43,-49.83 471.06,-39.72 459.3,-31.26\"/>\n",
       "<polygon fill=\"black\" stroke=\"black\" points=\"461.51,-28.54 451.35,-25.51 457.4,-34.21 461.51,-28.54\"/>\n",
       "<text text-anchor=\"middle\" x=\"521\" y=\"-45.2\" font-family=\"Times New Roman,serif\" font-size=\"14.00\">&lt;= 6.03</text>\n",
       "</g>\n",
       "<!-- 0_1_2_1_2 -->\n",
       "<g id=\"node13\" class=\"node\">\n",
       "<title>0_1_2_1_2</title>\n",
       "<polygon fill=\"burlywood\" stroke=\"black\" points=\"499.88,-0.5 499.88,-24.25 593.88,-24.25 593.88,-0.5 499.88,-0.5\"/>\n",
       "<text text-anchor=\"middle\" x=\"546.88\" y=\"-6.95\" font-family=\"Times New Roman,serif\" font-size=\"14.00\">Iris&#45;versicolor</text>\n",
       "</g>\n",
       "<!-- 0_1_2_1&#45;&gt;0_1_2_1_2 -->\n",
       "<g id=\"edge9\" class=\"edge\">\n",
       "<title>0_1_2_1&#45;&gt;0_1_2_1_2</title>\n",
       "<path fill=\"none\" stroke=\"black\" d=\"M546.88,-76.56C546.88,-65.71 546.88,-49.05 546.88,-35.55\"/>\n",
       "<polygon fill=\"black\" stroke=\"black\" points=\"550.38,-35.82 546.88,-25.82 543.38,-35.82 550.38,-35.82\"/>\n",
       "<text text-anchor=\"middle\" x=\"564.88\" y=\"-45.2\" font-family=\"Times New Roman,serif\" font-size=\"14.00\">&gt; 6.03</text>\n",
       "</g>\n",
       "<!-- 0_1_2_2_1 -->\n",
       "<g id=\"node15\" class=\"node\">\n",
       "<title>0_1_2_2_1</title>\n",
       "<polygon fill=\"burlywood\" stroke=\"black\" points=\"611.88,-0.5 611.88,-24.25 705.88,-24.25 705.88,-0.5 611.88,-0.5\"/>\n",
       "<text text-anchor=\"middle\" x=\"658.88\" y=\"-6.95\" font-family=\"Times New Roman,serif\" font-size=\"14.00\">Iris&#45;versicolor</text>\n",
       "</g>\n",
       "<!-- 0_1_2_2&#45;&gt;0_1_2_2_1 -->\n",
       "<g id=\"edge11\" class=\"edge\">\n",
       "<title>0_1_2_2&#45;&gt;0_1_2_2_1</title>\n",
       "<path fill=\"none\" stroke=\"black\" d=\"M658.88,-76.56C658.88,-65.71 658.88,-49.05 658.88,-35.55\"/>\n",
       "<polygon fill=\"black\" stroke=\"black\" points=\"662.38,-35.82 658.88,-25.82 655.38,-35.82 662.38,-35.82\"/>\n",
       "<text text-anchor=\"middle\" x=\"681\" y=\"-45.2\" font-family=\"Times New Roman,serif\" font-size=\"14.00\">&lt;= 6.60</text>\n",
       "</g>\n",
       "<!-- 0_1_2_2_2 -->\n",
       "<g id=\"node16\" class=\"node\">\n",
       "<title>0_1_2_2_2</title>\n",
       "<polygon fill=\"burlywood\" stroke=\"black\" points=\"723.88,-0.5 723.88,-24.25 817.88,-24.25 817.88,-0.5 723.88,-0.5\"/>\n",
       "<text text-anchor=\"middle\" x=\"770.88\" y=\"-6.95\" font-family=\"Times New Roman,serif\" font-size=\"14.00\">Iris&#45;versicolor</text>\n",
       "</g>\n",
       "<!-- 0_1_2_2&#45;&gt;0_1_2_2_2 -->\n",
       "<g id=\"edge12\" class=\"edge\">\n",
       "<title>0_1_2_2&#45;&gt;0_1_2_2_2</title>\n",
       "<path fill=\"none\" stroke=\"black\" d=\"M677.74,-76.71C686.66,-71.34 697.41,-64.73 706.88,-58.5 720.1,-49.81 734.53,-39.69 746.33,-31.24\"/>\n",
       "<polygon fill=\"black\" stroke=\"black\" points=\"748.25,-34.17 754.32,-25.49 744.16,-28.49 748.25,-34.17\"/>\n",
       "<text text-anchor=\"middle\" x=\"748.88\" y=\"-45.2\" font-family=\"Times New Roman,serif\" font-size=\"14.00\">&gt; 6.60</text>\n",
       "</g>\n",
       "<!-- 0_2_1 -->\n",
       "<g id=\"node18\" class=\"node\">\n",
       "<title>0_2_1</title>\n",
       "<polygon fill=\"#a0522d\" stroke=\"black\" points=\"731.25,-153.5 731.25,-177.25 806.5,-177.25 806.5,-153.5 731.25,-153.5\"/>\n",
       "<text text-anchor=\"middle\" x=\"768.88\" y=\"-159.95\" font-family=\"Times New Roman,serif\" font-size=\"14.00\">sepalwidth</text>\n",
       "</g>\n",
       "<!-- 0_2&#45;&gt;0_2_1 -->\n",
       "<g id=\"edge20\" class=\"edge\">\n",
       "<title>0_2&#45;&gt;0_2_1</title>\n",
       "<path fill=\"none\" stroke=\"black\" d=\"M768.88,-229.56C768.88,-218.71 768.88,-202.05 768.88,-188.55\"/>\n",
       "<polygon fill=\"black\" stroke=\"black\" points=\"772.38,-188.82 768.88,-178.82 765.38,-188.82 772.38,-188.82\"/>\n",
       "<text text-anchor=\"middle\" x=\"791\" y=\"-198.2\" font-family=\"Times New Roman,serif\" font-size=\"14.00\">&lt;= 7.13</text>\n",
       "</g>\n",
       "<!-- 0_2_2 -->\n",
       "<g id=\"node23\" class=\"node\">\n",
       "<title>0_2_2</title>\n",
       "<polygon fill=\"burlywood\" stroke=\"black\" points=\"824.38,-153.5 824.38,-177.25 909.38,-177.25 909.38,-153.5 824.38,-153.5\"/>\n",
       "<text text-anchor=\"middle\" x=\"866.88\" y=\"-159.95\" font-family=\"Times New Roman,serif\" font-size=\"14.00\">Iris&#45;virginica</text>\n",
       "</g>\n",
       "<!-- 0_2&#45;&gt;0_2_2 -->\n",
       "<g id=\"edge21\" class=\"edge\">\n",
       "<title>0_2&#45;&gt;0_2_2</title>\n",
       "<path fill=\"none\" stroke=\"black\" d=\"M789.03,-229.66C797.83,-224.49 808.11,-218.05 816.88,-211.5 827.55,-203.52 838.64,-193.7 847.65,-185.26\"/>\n",
       "<polygon fill=\"black\" stroke=\"black\" points=\"849.97,-187.88 854.78,-178.44 845.13,-182.82 849.97,-187.88\"/>\n",
       "<text text-anchor=\"middle\" x=\"853.88\" y=\"-198.2\" font-family=\"Times New Roman,serif\" font-size=\"14.00\">&gt; 7.13</text>\n",
       "</g>\n",
       "<!-- 0_2_1_1 -->\n",
       "<g id=\"node19\" class=\"node\">\n",
       "<title>0_2_1_1</title>\n",
       "<polygon fill=\"burlywood\" stroke=\"black\" points=\"726.38,-77 726.38,-100.75 811.38,-100.75 811.38,-77 726.38,-77\"/>\n",
       "<text text-anchor=\"middle\" x=\"768.88\" y=\"-83.45\" font-family=\"Times New Roman,serif\" font-size=\"14.00\">Iris&#45;virginica</text>\n",
       "</g>\n",
       "<!-- 0_2_1&#45;&gt;0_2_1_1 -->\n",
       "<g id=\"edge16\" class=\"edge\">\n",
       "<title>0_2_1&#45;&gt;0_2_1_1</title>\n",
       "<path fill=\"none\" stroke=\"black\" d=\"M768.88,-153.06C768.88,-142.21 768.88,-125.55 768.88,-112.05\"/>\n",
       "<polygon fill=\"black\" stroke=\"black\" points=\"772.38,-112.32 768.88,-102.32 765.38,-112.32 772.38,-112.32\"/>\n",
       "<text text-anchor=\"middle\" x=\"791\" y=\"-121.7\" font-family=\"Times New Roman,serif\" font-size=\"14.00\">&lt;= 3.10</text>\n",
       "</g>\n",
       "<!-- 0_2_1_2 -->\n",
       "<g id=\"node20\" class=\"node\">\n",
       "<title>0_2_1_2</title>\n",
       "<polygon fill=\"#a0522d\" stroke=\"black\" points=\"841.25,-77 841.25,-100.75 916.5,-100.75 916.5,-77 841.25,-77\"/>\n",
       "<text text-anchor=\"middle\" x=\"878.88\" y=\"-83.45\" font-family=\"Times New Roman,serif\" font-size=\"14.00\">petallength</text>\n",
       "</g>\n",
       "<!-- 0_2_1&#45;&gt;0_2_1_2 -->\n",
       "<g id=\"edge19\" class=\"edge\">\n",
       "<title>0_2_1&#45;&gt;0_2_1_2</title>\n",
       "<path fill=\"none\" stroke=\"black\" d=\"M788.25,-153C797.08,-147.69 807.62,-141.19 816.88,-135 829.85,-126.33 843.93,-116.14 855.4,-107.64\"/>\n",
       "<polygon fill=\"black\" stroke=\"black\" points=\"857.2,-110.67 863.12,-101.88 853.01,-105.06 857.2,-110.67\"/>\n",
       "<text text-anchor=\"middle\" x=\"857.88\" y=\"-121.7\" font-family=\"Times New Roman,serif\" font-size=\"14.00\">&gt; 3.10</text>\n",
       "</g>\n",
       "<!-- 0_2_1_2_1 -->\n",
       "<g id=\"node21\" class=\"node\">\n",
       "<title>0_2_1_2_1</title>\n",
       "<polygon fill=\"burlywood\" stroke=\"black\" points=\"836.38,-0.5 836.38,-24.25 921.38,-24.25 921.38,-0.5 836.38,-0.5\"/>\n",
       "<text text-anchor=\"middle\" x=\"878.88\" y=\"-6.95\" font-family=\"Times New Roman,serif\" font-size=\"14.00\">Iris&#45;virginica</text>\n",
       "</g>\n",
       "<!-- 0_2_1_2&#45;&gt;0_2_1_2_1 -->\n",
       "<g id=\"edge17\" class=\"edge\">\n",
       "<title>0_2_1_2&#45;&gt;0_2_1_2_1</title>\n",
       "<path fill=\"none\" stroke=\"black\" d=\"M878.88,-76.56C878.88,-65.71 878.88,-49.05 878.88,-35.55\"/>\n",
       "<polygon fill=\"black\" stroke=\"black\" points=\"882.38,-35.82 878.88,-25.82 875.38,-35.82 882.38,-35.82\"/>\n",
       "<text text-anchor=\"middle\" x=\"901\" y=\"-45.2\" font-family=\"Times New Roman,serif\" font-size=\"14.00\">&lt;= 5.60</text>\n",
       "</g>\n",
       "<!-- 0_2_1_2_2 -->\n",
       "<g id=\"node22\" class=\"node\">\n",
       "<title>0_2_1_2_2</title>\n",
       "<polygon fill=\"burlywood\" stroke=\"black\" points=\"939.38,-0.5 939.38,-24.25 1024.38,-24.25 1024.38,-0.5 939.38,-0.5\"/>\n",
       "<text text-anchor=\"middle\" x=\"981.88\" y=\"-6.95\" font-family=\"Times New Roman,serif\" font-size=\"14.00\">Iris&#45;virginica</text>\n",
       "</g>\n",
       "<!-- 0_2_1_2&#45;&gt;0_2_1_2_2 -->\n",
       "<g id=\"edge18\" class=\"edge\">\n",
       "<title>0_2_1_2&#45;&gt;0_2_1_2_2</title>\n",
       "<path fill=\"none\" stroke=\"black\" d=\"M898.42,-76.75C907.29,-71.49 917.8,-64.95 926.88,-58.5 938.43,-50.28 950.69,-40.35 960.69,-31.91\"/>\n",
       "<polygon fill=\"black\" stroke=\"black\" points=\"962.69,-34.8 968.01,-25.64 958.14,-29.49 962.69,-34.8\"/>\n",
       "<text text-anchor=\"middle\" x=\"965.88\" y=\"-45.2\" font-family=\"Times New Roman,serif\" font-size=\"14.00\">&gt; 5.60</text>\n",
       "</g>\n",
       "</g>\n",
       "</svg>\n"
      ],
      "text/plain": [
       "<graphviz.graphs.Digraph at 0x18b336b7c48>"
      ]
     },
     "execution_count": 20,
     "metadata": {},
     "output_type": "execute_result"
    }
   ],
   "source": [
    "plot_tree(tree)"
   ]
  },
  {
   "cell_type": "markdown",
   "id": "1b9e4259-452b-48e4-9927-fe66e51db2a5",
   "metadata": {},
   "source": [
    "## **Prediction**"
   ]
  },
  {
   "cell_type": "code",
   "execution_count": 21,
   "id": "534b1da5-5f83-4934-af2e-b8e1c68d9867",
   "metadata": {},
   "outputs": [],
   "source": [
    "def pred(node , sample):\n",
    "    if node.feature is None:\n",
    "        return node.label\n",
    "    feature_value = sample[node.feature]\n",
    "    \n",
    "    if feature_value in node.children:\n",
    "        return pred(node.children[feature_value], sample)\n",
    "    else:\n",
    "        for condition in node.children:\n",
    "            print(node.children)\n",
    "            operator , threshold = condition.split(' ')\n",
    "            threshold = float(threshold)\n",
    "            \n",
    "            if operator == '<=' and feature_value <= threshold:\n",
    "                return pred(node.children[condition] , sample)\n",
    "            \n",
    "            elif operator == '>' and feature_value > threshold:\n",
    "                return pred(node.children[condition] , sample)"
   ]
  },
  {
   "cell_type": "code",
   "execution_count": 22,
   "id": "a60471d4-2715-4443-85b9-ba7eda31612f",
   "metadata": {
    "collapsed": true,
    "jupyter": {
     "outputs_hidden": true
    },
    "tags": []
   },
   "outputs": [
    {
     "name": "stdout",
     "output_type": "stream",
     "text": [
      "{'<= 1.70': DecisionNode(feature=\"petallength\", children={'<= 4.20': DecisionNode(feature=\"sepallength\", children={'<= 5.50': DecisionNode(feature=\"sepalwidth\", children={'<= 3.57': LeafNode(label=\"Iris-setosa\"), '> 3.57': LeafNode(label=\"Iris-setosa\")}), '> 5.50': DecisionNode(feature=\"sepalwidth\", children={'<= 3.67': LeafNode(label=\"Iris-versicolor\"), '> 3.67': LeafNode(label=\"Iris-setosa\")})}), '> 4.20': DecisionNode(feature=\"sepalwidth\", children={'<= 2.93': DecisionNode(feature=\"sepallength\", children={'<= 6.03': LeafNode(label=\"Iris-versicolor\"), '> 6.03': LeafNode(label=\"Iris-versicolor\")}), '> 2.93': DecisionNode(feature=\"sepallength\", children={'<= 6.60': LeafNode(label=\"Iris-versicolor\"), '> 6.60': LeafNode(label=\"Iris-versicolor\")})})}), '> 1.70': DecisionNode(feature=\"sepallength\", children={'<= 7.13': DecisionNode(feature=\"sepalwidth\", children={'<= 3.10': LeafNode(label=\"Iris-virginica\"), '> 3.10': DecisionNode(feature=\"petallength\", children={'<= 5.60': LeafNode(label=\"Iris-virginica\"), '> 5.60': LeafNode(label=\"Iris-virginica\")})}), '> 7.13': LeafNode(label=\"Iris-virginica\")})}\n",
      "{'<= 4.20': DecisionNode(feature=\"sepallength\", children={'<= 5.50': DecisionNode(feature=\"sepalwidth\", children={'<= 3.57': LeafNode(label=\"Iris-setosa\"), '> 3.57': LeafNode(label=\"Iris-setosa\")}), '> 5.50': DecisionNode(feature=\"sepalwidth\", children={'<= 3.67': LeafNode(label=\"Iris-versicolor\"), '> 3.67': LeafNode(label=\"Iris-setosa\")})}), '> 4.20': DecisionNode(feature=\"sepalwidth\", children={'<= 2.93': DecisionNode(feature=\"sepallength\", children={'<= 6.03': LeafNode(label=\"Iris-versicolor\"), '> 6.03': LeafNode(label=\"Iris-versicolor\")}), '> 2.93': DecisionNode(feature=\"sepallength\", children={'<= 6.60': LeafNode(label=\"Iris-versicolor\"), '> 6.60': LeafNode(label=\"Iris-versicolor\")})})}\n",
      "{'<= 4.20': DecisionNode(feature=\"sepallength\", children={'<= 5.50': DecisionNode(feature=\"sepalwidth\", children={'<= 3.57': LeafNode(label=\"Iris-setosa\"), '> 3.57': LeafNode(label=\"Iris-setosa\")}), '> 5.50': DecisionNode(feature=\"sepalwidth\", children={'<= 3.67': LeafNode(label=\"Iris-versicolor\"), '> 3.67': LeafNode(label=\"Iris-setosa\")})}), '> 4.20': DecisionNode(feature=\"sepalwidth\", children={'<= 2.93': DecisionNode(feature=\"sepallength\", children={'<= 6.03': LeafNode(label=\"Iris-versicolor\"), '> 6.03': LeafNode(label=\"Iris-versicolor\")}), '> 2.93': DecisionNode(feature=\"sepallength\", children={'<= 6.60': LeafNode(label=\"Iris-versicolor\"), '> 6.60': LeafNode(label=\"Iris-versicolor\")})})}\n",
      "{'<= 2.93': DecisionNode(feature=\"sepallength\", children={'<= 6.03': LeafNode(label=\"Iris-versicolor\"), '> 6.03': LeafNode(label=\"Iris-versicolor\")}), '> 2.93': DecisionNode(feature=\"sepallength\", children={'<= 6.60': LeafNode(label=\"Iris-versicolor\"), '> 6.60': LeafNode(label=\"Iris-versicolor\")})}\n",
      "{'<= 6.03': LeafNode(label=\"Iris-versicolor\"), '> 6.03': LeafNode(label=\"Iris-versicolor\")}\n",
      "{'<= 6.03': LeafNode(label=\"Iris-versicolor\"), '> 6.03': LeafNode(label=\"Iris-versicolor\")}\n",
      "{'<= 1.70': DecisionNode(feature=\"petallength\", children={'<= 4.20': DecisionNode(feature=\"sepallength\", children={'<= 5.50': DecisionNode(feature=\"sepalwidth\", children={'<= 3.57': LeafNode(label=\"Iris-setosa\"), '> 3.57': LeafNode(label=\"Iris-setosa\")}), '> 5.50': DecisionNode(feature=\"sepalwidth\", children={'<= 3.67': LeafNode(label=\"Iris-versicolor\"), '> 3.67': LeafNode(label=\"Iris-setosa\")})}), '> 4.20': DecisionNode(feature=\"sepalwidth\", children={'<= 2.93': DecisionNode(feature=\"sepallength\", children={'<= 6.03': LeafNode(label=\"Iris-versicolor\"), '> 6.03': LeafNode(label=\"Iris-versicolor\")}), '> 2.93': DecisionNode(feature=\"sepallength\", children={'<= 6.60': LeafNode(label=\"Iris-versicolor\"), '> 6.60': LeafNode(label=\"Iris-versicolor\")})})}), '> 1.70': DecisionNode(feature=\"sepallength\", children={'<= 7.13': DecisionNode(feature=\"sepalwidth\", children={'<= 3.10': LeafNode(label=\"Iris-virginica\"), '> 3.10': DecisionNode(feature=\"petallength\", children={'<= 5.60': LeafNode(label=\"Iris-virginica\"), '> 5.60': LeafNode(label=\"Iris-virginica\")})}), '> 7.13': LeafNode(label=\"Iris-virginica\")})}\n",
      "{'<= 1.70': DecisionNode(feature=\"petallength\", children={'<= 4.20': DecisionNode(feature=\"sepallength\", children={'<= 5.50': DecisionNode(feature=\"sepalwidth\", children={'<= 3.57': LeafNode(label=\"Iris-setosa\"), '> 3.57': LeafNode(label=\"Iris-setosa\")}), '> 5.50': DecisionNode(feature=\"sepalwidth\", children={'<= 3.67': LeafNode(label=\"Iris-versicolor\"), '> 3.67': LeafNode(label=\"Iris-setosa\")})}), '> 4.20': DecisionNode(feature=\"sepalwidth\", children={'<= 2.93': DecisionNode(feature=\"sepallength\", children={'<= 6.03': LeafNode(label=\"Iris-versicolor\"), '> 6.03': LeafNode(label=\"Iris-versicolor\")}), '> 2.93': DecisionNode(feature=\"sepallength\", children={'<= 6.60': LeafNode(label=\"Iris-versicolor\"), '> 6.60': LeafNode(label=\"Iris-versicolor\")})})}), '> 1.70': DecisionNode(feature=\"sepallength\", children={'<= 7.13': DecisionNode(feature=\"sepalwidth\", children={'<= 3.10': LeafNode(label=\"Iris-virginica\"), '> 3.10': DecisionNode(feature=\"petallength\", children={'<= 5.60': LeafNode(label=\"Iris-virginica\"), '> 5.60': LeafNode(label=\"Iris-virginica\")})}), '> 7.13': LeafNode(label=\"Iris-virginica\")})}\n",
      "{'<= 7.13': DecisionNode(feature=\"sepalwidth\", children={'<= 3.10': LeafNode(label=\"Iris-virginica\"), '> 3.10': DecisionNode(feature=\"petallength\", children={'<= 5.60': LeafNode(label=\"Iris-virginica\"), '> 5.60': LeafNode(label=\"Iris-virginica\")})}), '> 7.13': LeafNode(label=\"Iris-virginica\")}\n",
      "{'<= 3.10': LeafNode(label=\"Iris-virginica\"), '> 3.10': DecisionNode(feature=\"petallength\", children={'<= 5.60': LeafNode(label=\"Iris-virginica\"), '> 5.60': LeafNode(label=\"Iris-virginica\")})}\n",
      "{'<= 1.70': DecisionNode(feature=\"petallength\", children={'<= 4.20': DecisionNode(feature=\"sepallength\", children={'<= 5.50': DecisionNode(feature=\"sepalwidth\", children={'<= 3.57': LeafNode(label=\"Iris-setosa\"), '> 3.57': LeafNode(label=\"Iris-setosa\")}), '> 5.50': DecisionNode(feature=\"sepalwidth\", children={'<= 3.67': LeafNode(label=\"Iris-versicolor\"), '> 3.67': LeafNode(label=\"Iris-setosa\")})}), '> 4.20': DecisionNode(feature=\"sepalwidth\", children={'<= 2.93': DecisionNode(feature=\"sepallength\", children={'<= 6.03': LeafNode(label=\"Iris-versicolor\"), '> 6.03': LeafNode(label=\"Iris-versicolor\")}), '> 2.93': DecisionNode(feature=\"sepallength\", children={'<= 6.60': LeafNode(label=\"Iris-versicolor\"), '> 6.60': LeafNode(label=\"Iris-versicolor\")})})}), '> 1.70': DecisionNode(feature=\"sepallength\", children={'<= 7.13': DecisionNode(feature=\"sepalwidth\", children={'<= 3.10': LeafNode(label=\"Iris-virginica\"), '> 3.10': DecisionNode(feature=\"petallength\", children={'<= 5.60': LeafNode(label=\"Iris-virginica\"), '> 5.60': LeafNode(label=\"Iris-virginica\")})}), '> 7.13': LeafNode(label=\"Iris-virginica\")})}\n",
      "{'<= 4.20': DecisionNode(feature=\"sepallength\", children={'<= 5.50': DecisionNode(feature=\"sepalwidth\", children={'<= 3.57': LeafNode(label=\"Iris-setosa\"), '> 3.57': LeafNode(label=\"Iris-setosa\")}), '> 5.50': DecisionNode(feature=\"sepalwidth\", children={'<= 3.67': LeafNode(label=\"Iris-versicolor\"), '> 3.67': LeafNode(label=\"Iris-setosa\")})}), '> 4.20': DecisionNode(feature=\"sepalwidth\", children={'<= 2.93': DecisionNode(feature=\"sepallength\", children={'<= 6.03': LeafNode(label=\"Iris-versicolor\"), '> 6.03': LeafNode(label=\"Iris-versicolor\")}), '> 2.93': DecisionNode(feature=\"sepallength\", children={'<= 6.60': LeafNode(label=\"Iris-versicolor\"), '> 6.60': LeafNode(label=\"Iris-versicolor\")})})}\n",
      "{'<= 5.50': DecisionNode(feature=\"sepalwidth\", children={'<= 3.57': LeafNode(label=\"Iris-setosa\"), '> 3.57': LeafNode(label=\"Iris-setosa\")}), '> 5.50': DecisionNode(feature=\"sepalwidth\", children={'<= 3.67': LeafNode(label=\"Iris-versicolor\"), '> 3.67': LeafNode(label=\"Iris-setosa\")})}\n",
      "{'<= 3.57': LeafNode(label=\"Iris-setosa\"), '> 3.57': LeafNode(label=\"Iris-setosa\")}\n",
      "{'<= 3.57': LeafNode(label=\"Iris-setosa\"), '> 3.57': LeafNode(label=\"Iris-setosa\")}\n",
      "{'<= 1.70': DecisionNode(feature=\"petallength\", children={'<= 4.20': DecisionNode(feature=\"sepallength\", children={'<= 5.50': DecisionNode(feature=\"sepalwidth\", children={'<= 3.57': LeafNode(label=\"Iris-setosa\"), '> 3.57': LeafNode(label=\"Iris-setosa\")}), '> 5.50': DecisionNode(feature=\"sepalwidth\", children={'<= 3.67': LeafNode(label=\"Iris-versicolor\"), '> 3.67': LeafNode(label=\"Iris-setosa\")})}), '> 4.20': DecisionNode(feature=\"sepalwidth\", children={'<= 2.93': DecisionNode(feature=\"sepallength\", children={'<= 6.03': LeafNode(label=\"Iris-versicolor\"), '> 6.03': LeafNode(label=\"Iris-versicolor\")}), '> 2.93': DecisionNode(feature=\"sepallength\", children={'<= 6.60': LeafNode(label=\"Iris-versicolor\"), '> 6.60': LeafNode(label=\"Iris-versicolor\")})})}), '> 1.70': DecisionNode(feature=\"sepallength\", children={'<= 7.13': DecisionNode(feature=\"sepalwidth\", children={'<= 3.10': LeafNode(label=\"Iris-virginica\"), '> 3.10': DecisionNode(feature=\"petallength\", children={'<= 5.60': LeafNode(label=\"Iris-virginica\"), '> 5.60': LeafNode(label=\"Iris-virginica\")})}), '> 7.13': LeafNode(label=\"Iris-virginica\")})}\n",
      "{'<= 4.20': DecisionNode(feature=\"sepallength\", children={'<= 5.50': DecisionNode(feature=\"sepalwidth\", children={'<= 3.57': LeafNode(label=\"Iris-setosa\"), '> 3.57': LeafNode(label=\"Iris-setosa\")}), '> 5.50': DecisionNode(feature=\"sepalwidth\", children={'<= 3.67': LeafNode(label=\"Iris-versicolor\"), '> 3.67': LeafNode(label=\"Iris-setosa\")})}), '> 4.20': DecisionNode(feature=\"sepalwidth\", children={'<= 2.93': DecisionNode(feature=\"sepallength\", children={'<= 6.03': LeafNode(label=\"Iris-versicolor\"), '> 6.03': LeafNode(label=\"Iris-versicolor\")}), '> 2.93': DecisionNode(feature=\"sepallength\", children={'<= 6.60': LeafNode(label=\"Iris-versicolor\"), '> 6.60': LeafNode(label=\"Iris-versicolor\")})})}\n",
      "{'<= 4.20': DecisionNode(feature=\"sepallength\", children={'<= 5.50': DecisionNode(feature=\"sepalwidth\", children={'<= 3.57': LeafNode(label=\"Iris-setosa\"), '> 3.57': LeafNode(label=\"Iris-setosa\")}), '> 5.50': DecisionNode(feature=\"sepalwidth\", children={'<= 3.67': LeafNode(label=\"Iris-versicolor\"), '> 3.67': LeafNode(label=\"Iris-setosa\")})}), '> 4.20': DecisionNode(feature=\"sepalwidth\", children={'<= 2.93': DecisionNode(feature=\"sepallength\", children={'<= 6.03': LeafNode(label=\"Iris-versicolor\"), '> 6.03': LeafNode(label=\"Iris-versicolor\")}), '> 2.93': DecisionNode(feature=\"sepallength\", children={'<= 6.60': LeafNode(label=\"Iris-versicolor\"), '> 6.60': LeafNode(label=\"Iris-versicolor\")})})}\n",
      "{'<= 2.93': DecisionNode(feature=\"sepallength\", children={'<= 6.03': LeafNode(label=\"Iris-versicolor\"), '> 6.03': LeafNode(label=\"Iris-versicolor\")}), '> 2.93': DecisionNode(feature=\"sepallength\", children={'<= 6.60': LeafNode(label=\"Iris-versicolor\"), '> 6.60': LeafNode(label=\"Iris-versicolor\")})}\n",
      "{'<= 2.93': DecisionNode(feature=\"sepallength\", children={'<= 6.03': LeafNode(label=\"Iris-versicolor\"), '> 6.03': LeafNode(label=\"Iris-versicolor\")}), '> 2.93': DecisionNode(feature=\"sepallength\", children={'<= 6.60': LeafNode(label=\"Iris-versicolor\"), '> 6.60': LeafNode(label=\"Iris-versicolor\")})}\n",
      "{'<= 6.60': LeafNode(label=\"Iris-versicolor\"), '> 6.60': LeafNode(label=\"Iris-versicolor\")}\n",
      "{'<= 1.70': DecisionNode(feature=\"petallength\", children={'<= 4.20': DecisionNode(feature=\"sepallength\", children={'<= 5.50': DecisionNode(feature=\"sepalwidth\", children={'<= 3.57': LeafNode(label=\"Iris-setosa\"), '> 3.57': LeafNode(label=\"Iris-setosa\")}), '> 5.50': DecisionNode(feature=\"sepalwidth\", children={'<= 3.67': LeafNode(label=\"Iris-versicolor\"), '> 3.67': LeafNode(label=\"Iris-setosa\")})}), '> 4.20': DecisionNode(feature=\"sepalwidth\", children={'<= 2.93': DecisionNode(feature=\"sepallength\", children={'<= 6.03': LeafNode(label=\"Iris-versicolor\"), '> 6.03': LeafNode(label=\"Iris-versicolor\")}), '> 2.93': DecisionNode(feature=\"sepallength\", children={'<= 6.60': LeafNode(label=\"Iris-versicolor\"), '> 6.60': LeafNode(label=\"Iris-versicolor\")})})}), '> 1.70': DecisionNode(feature=\"sepallength\", children={'<= 7.13': DecisionNode(feature=\"sepalwidth\", children={'<= 3.10': LeafNode(label=\"Iris-virginica\"), '> 3.10': DecisionNode(feature=\"petallength\", children={'<= 5.60': LeafNode(label=\"Iris-virginica\"), '> 5.60': LeafNode(label=\"Iris-virginica\")})}), '> 7.13': LeafNode(label=\"Iris-virginica\")})}\n",
      "{'<= 4.20': DecisionNode(feature=\"sepallength\", children={'<= 5.50': DecisionNode(feature=\"sepalwidth\", children={'<= 3.57': LeafNode(label=\"Iris-setosa\"), '> 3.57': LeafNode(label=\"Iris-setosa\")}), '> 5.50': DecisionNode(feature=\"sepalwidth\", children={'<= 3.67': LeafNode(label=\"Iris-versicolor\"), '> 3.67': LeafNode(label=\"Iris-setosa\")})}), '> 4.20': DecisionNode(feature=\"sepalwidth\", children={'<= 2.93': DecisionNode(feature=\"sepallength\", children={'<= 6.03': LeafNode(label=\"Iris-versicolor\"), '> 6.03': LeafNode(label=\"Iris-versicolor\")}), '> 2.93': DecisionNode(feature=\"sepallength\", children={'<= 6.60': LeafNode(label=\"Iris-versicolor\"), '> 6.60': LeafNode(label=\"Iris-versicolor\")})})}\n",
      "{'<= 5.50': DecisionNode(feature=\"sepalwidth\", children={'<= 3.57': LeafNode(label=\"Iris-setosa\"), '> 3.57': LeafNode(label=\"Iris-setosa\")}), '> 5.50': DecisionNode(feature=\"sepalwidth\", children={'<= 3.67': LeafNode(label=\"Iris-versicolor\"), '> 3.67': LeafNode(label=\"Iris-setosa\")})}\n",
      "{'<= 3.57': LeafNode(label=\"Iris-setosa\"), '> 3.57': LeafNode(label=\"Iris-setosa\")}\n",
      "{'<= 1.70': DecisionNode(feature=\"petallength\", children={'<= 4.20': DecisionNode(feature=\"sepallength\", children={'<= 5.50': DecisionNode(feature=\"sepalwidth\", children={'<= 3.57': LeafNode(label=\"Iris-setosa\"), '> 3.57': LeafNode(label=\"Iris-setosa\")}), '> 5.50': DecisionNode(feature=\"sepalwidth\", children={'<= 3.67': LeafNode(label=\"Iris-versicolor\"), '> 3.67': LeafNode(label=\"Iris-setosa\")})}), '> 4.20': DecisionNode(feature=\"sepalwidth\", children={'<= 2.93': DecisionNode(feature=\"sepallength\", children={'<= 6.03': LeafNode(label=\"Iris-versicolor\"), '> 6.03': LeafNode(label=\"Iris-versicolor\")}), '> 2.93': DecisionNode(feature=\"sepallength\", children={'<= 6.60': LeafNode(label=\"Iris-versicolor\"), '> 6.60': LeafNode(label=\"Iris-versicolor\")})})}), '> 1.70': DecisionNode(feature=\"sepallength\", children={'<= 7.13': DecisionNode(feature=\"sepalwidth\", children={'<= 3.10': LeafNode(label=\"Iris-virginica\"), '> 3.10': DecisionNode(feature=\"petallength\", children={'<= 5.60': LeafNode(label=\"Iris-virginica\"), '> 5.60': LeafNode(label=\"Iris-virginica\")})}), '> 7.13': LeafNode(label=\"Iris-virginica\")})}\n",
      "{'<= 4.20': DecisionNode(feature=\"sepallength\", children={'<= 5.50': DecisionNode(feature=\"sepalwidth\", children={'<= 3.57': LeafNode(label=\"Iris-setosa\"), '> 3.57': LeafNode(label=\"Iris-setosa\")}), '> 5.50': DecisionNode(feature=\"sepalwidth\", children={'<= 3.67': LeafNode(label=\"Iris-versicolor\"), '> 3.67': LeafNode(label=\"Iris-setosa\")})}), '> 4.20': DecisionNode(feature=\"sepalwidth\", children={'<= 2.93': DecisionNode(feature=\"sepallength\", children={'<= 6.03': LeafNode(label=\"Iris-versicolor\"), '> 6.03': LeafNode(label=\"Iris-versicolor\")}), '> 2.93': DecisionNode(feature=\"sepallength\", children={'<= 6.60': LeafNode(label=\"Iris-versicolor\"), '> 6.60': LeafNode(label=\"Iris-versicolor\")})})}\n",
      "{'<= 5.50': DecisionNode(feature=\"sepalwidth\", children={'<= 3.57': LeafNode(label=\"Iris-setosa\"), '> 3.57': LeafNode(label=\"Iris-setosa\")}), '> 5.50': DecisionNode(feature=\"sepalwidth\", children={'<= 3.67': LeafNode(label=\"Iris-versicolor\"), '> 3.67': LeafNode(label=\"Iris-setosa\")})}\n",
      "{'<= 3.57': LeafNode(label=\"Iris-setosa\"), '> 3.57': LeafNode(label=\"Iris-setosa\")}\n",
      "{'<= 1.70': DecisionNode(feature=\"petallength\", children={'<= 4.20': DecisionNode(feature=\"sepallength\", children={'<= 5.50': DecisionNode(feature=\"sepalwidth\", children={'<= 3.57': LeafNode(label=\"Iris-setosa\"), '> 3.57': LeafNode(label=\"Iris-setosa\")}), '> 5.50': DecisionNode(feature=\"sepalwidth\", children={'<= 3.67': LeafNode(label=\"Iris-versicolor\"), '> 3.67': LeafNode(label=\"Iris-setosa\")})}), '> 4.20': DecisionNode(feature=\"sepalwidth\", children={'<= 2.93': DecisionNode(feature=\"sepallength\", children={'<= 6.03': LeafNode(label=\"Iris-versicolor\"), '> 6.03': LeafNode(label=\"Iris-versicolor\")}), '> 2.93': DecisionNode(feature=\"sepallength\", children={'<= 6.60': LeafNode(label=\"Iris-versicolor\"), '> 6.60': LeafNode(label=\"Iris-versicolor\")})})}), '> 1.70': DecisionNode(feature=\"sepallength\", children={'<= 7.13': DecisionNode(feature=\"sepalwidth\", children={'<= 3.10': LeafNode(label=\"Iris-virginica\"), '> 3.10': DecisionNode(feature=\"petallength\", children={'<= 5.60': LeafNode(label=\"Iris-virginica\"), '> 5.60': LeafNode(label=\"Iris-virginica\")})}), '> 7.13': LeafNode(label=\"Iris-virginica\")})}\n",
      "{'<= 4.20': DecisionNode(feature=\"sepallength\", children={'<= 5.50': DecisionNode(feature=\"sepalwidth\", children={'<= 3.57': LeafNode(label=\"Iris-setosa\"), '> 3.57': LeafNode(label=\"Iris-setosa\")}), '> 5.50': DecisionNode(feature=\"sepalwidth\", children={'<= 3.67': LeafNode(label=\"Iris-versicolor\"), '> 3.67': LeafNode(label=\"Iris-setosa\")})}), '> 4.20': DecisionNode(feature=\"sepalwidth\", children={'<= 2.93': DecisionNode(feature=\"sepallength\", children={'<= 6.03': LeafNode(label=\"Iris-versicolor\"), '> 6.03': LeafNode(label=\"Iris-versicolor\")}), '> 2.93': DecisionNode(feature=\"sepallength\", children={'<= 6.60': LeafNode(label=\"Iris-versicolor\"), '> 6.60': LeafNode(label=\"Iris-versicolor\")})})}\n",
      "{'<= 4.20': DecisionNode(feature=\"sepallength\", children={'<= 5.50': DecisionNode(feature=\"sepalwidth\", children={'<= 3.57': LeafNode(label=\"Iris-setosa\"), '> 3.57': LeafNode(label=\"Iris-setosa\")}), '> 5.50': DecisionNode(feature=\"sepalwidth\", children={'<= 3.67': LeafNode(label=\"Iris-versicolor\"), '> 3.67': LeafNode(label=\"Iris-setosa\")})}), '> 4.20': DecisionNode(feature=\"sepalwidth\", children={'<= 2.93': DecisionNode(feature=\"sepallength\", children={'<= 6.03': LeafNode(label=\"Iris-versicolor\"), '> 6.03': LeafNode(label=\"Iris-versicolor\")}), '> 2.93': DecisionNode(feature=\"sepallength\", children={'<= 6.60': LeafNode(label=\"Iris-versicolor\"), '> 6.60': LeafNode(label=\"Iris-versicolor\")})})}\n",
      "{'<= 2.93': DecisionNode(feature=\"sepallength\", children={'<= 6.03': LeafNode(label=\"Iris-versicolor\"), '> 6.03': LeafNode(label=\"Iris-versicolor\")}), '> 2.93': DecisionNode(feature=\"sepallength\", children={'<= 6.60': LeafNode(label=\"Iris-versicolor\"), '> 6.60': LeafNode(label=\"Iris-versicolor\")})}\n",
      "{'<= 6.03': LeafNode(label=\"Iris-versicolor\"), '> 6.03': LeafNode(label=\"Iris-versicolor\")}\n",
      "{'<= 6.03': LeafNode(label=\"Iris-versicolor\"), '> 6.03': LeafNode(label=\"Iris-versicolor\")}\n",
      "{'<= 1.70': DecisionNode(feature=\"petallength\", children={'<= 4.20': DecisionNode(feature=\"sepallength\", children={'<= 5.50': DecisionNode(feature=\"sepalwidth\", children={'<= 3.57': LeafNode(label=\"Iris-setosa\"), '> 3.57': LeafNode(label=\"Iris-setosa\")}), '> 5.50': DecisionNode(feature=\"sepalwidth\", children={'<= 3.67': LeafNode(label=\"Iris-versicolor\"), '> 3.67': LeafNode(label=\"Iris-setosa\")})}), '> 4.20': DecisionNode(feature=\"sepalwidth\", children={'<= 2.93': DecisionNode(feature=\"sepallength\", children={'<= 6.03': LeafNode(label=\"Iris-versicolor\"), '> 6.03': LeafNode(label=\"Iris-versicolor\")}), '> 2.93': DecisionNode(feature=\"sepallength\", children={'<= 6.60': LeafNode(label=\"Iris-versicolor\"), '> 6.60': LeafNode(label=\"Iris-versicolor\")})})}), '> 1.70': DecisionNode(feature=\"sepallength\", children={'<= 7.13': DecisionNode(feature=\"sepalwidth\", children={'<= 3.10': LeafNode(label=\"Iris-virginica\"), '> 3.10': DecisionNode(feature=\"petallength\", children={'<= 5.60': LeafNode(label=\"Iris-virginica\"), '> 5.60': LeafNode(label=\"Iris-virginica\")})}), '> 7.13': LeafNode(label=\"Iris-virginica\")})}\n",
      "{'<= 4.20': DecisionNode(feature=\"sepallength\", children={'<= 5.50': DecisionNode(feature=\"sepalwidth\", children={'<= 3.57': LeafNode(label=\"Iris-setosa\"), '> 3.57': LeafNode(label=\"Iris-setosa\")}), '> 5.50': DecisionNode(feature=\"sepalwidth\", children={'<= 3.67': LeafNode(label=\"Iris-versicolor\"), '> 3.67': LeafNode(label=\"Iris-setosa\")})}), '> 4.20': DecisionNode(feature=\"sepalwidth\", children={'<= 2.93': DecisionNode(feature=\"sepallength\", children={'<= 6.03': LeafNode(label=\"Iris-versicolor\"), '> 6.03': LeafNode(label=\"Iris-versicolor\")}), '> 2.93': DecisionNode(feature=\"sepallength\", children={'<= 6.60': LeafNode(label=\"Iris-versicolor\"), '> 6.60': LeafNode(label=\"Iris-versicolor\")})})}\n",
      "{'<= 5.50': DecisionNode(feature=\"sepalwidth\", children={'<= 3.57': LeafNode(label=\"Iris-setosa\"), '> 3.57': LeafNode(label=\"Iris-setosa\")}), '> 5.50': DecisionNode(feature=\"sepalwidth\", children={'<= 3.67': LeafNode(label=\"Iris-versicolor\"), '> 3.67': LeafNode(label=\"Iris-setosa\")})}\n",
      "{'<= 5.50': DecisionNode(feature=\"sepalwidth\", children={'<= 3.57': LeafNode(label=\"Iris-setosa\"), '> 3.57': LeafNode(label=\"Iris-setosa\")}), '> 5.50': DecisionNode(feature=\"sepalwidth\", children={'<= 3.67': LeafNode(label=\"Iris-versicolor\"), '> 3.67': LeafNode(label=\"Iris-setosa\")})}\n",
      "{'<= 3.67': LeafNode(label=\"Iris-versicolor\"), '> 3.67': LeafNode(label=\"Iris-setosa\")}\n",
      "{'<= 1.70': DecisionNode(feature=\"petallength\", children={'<= 4.20': DecisionNode(feature=\"sepallength\", children={'<= 5.50': DecisionNode(feature=\"sepalwidth\", children={'<= 3.57': LeafNode(label=\"Iris-setosa\"), '> 3.57': LeafNode(label=\"Iris-setosa\")}), '> 5.50': DecisionNode(feature=\"sepalwidth\", children={'<= 3.67': LeafNode(label=\"Iris-versicolor\"), '> 3.67': LeafNode(label=\"Iris-setosa\")})}), '> 4.20': DecisionNode(feature=\"sepalwidth\", children={'<= 2.93': DecisionNode(feature=\"sepallength\", children={'<= 6.03': LeafNode(label=\"Iris-versicolor\"), '> 6.03': LeafNode(label=\"Iris-versicolor\")}), '> 2.93': DecisionNode(feature=\"sepallength\", children={'<= 6.60': LeafNode(label=\"Iris-versicolor\"), '> 6.60': LeafNode(label=\"Iris-versicolor\")})})}), '> 1.70': DecisionNode(feature=\"sepallength\", children={'<= 7.13': DecisionNode(feature=\"sepalwidth\", children={'<= 3.10': LeafNode(label=\"Iris-virginica\"), '> 3.10': DecisionNode(feature=\"petallength\", children={'<= 5.60': LeafNode(label=\"Iris-virginica\"), '> 5.60': LeafNode(label=\"Iris-virginica\")})}), '> 7.13': LeafNode(label=\"Iris-virginica\")})}\n",
      "{'<= 4.20': DecisionNode(feature=\"sepallength\", children={'<= 5.50': DecisionNode(feature=\"sepalwidth\", children={'<= 3.57': LeafNode(label=\"Iris-setosa\"), '> 3.57': LeafNode(label=\"Iris-setosa\")}), '> 5.50': DecisionNode(feature=\"sepalwidth\", children={'<= 3.67': LeafNode(label=\"Iris-versicolor\"), '> 3.67': LeafNode(label=\"Iris-setosa\")})}), '> 4.20': DecisionNode(feature=\"sepalwidth\", children={'<= 2.93': DecisionNode(feature=\"sepallength\", children={'<= 6.03': LeafNode(label=\"Iris-versicolor\"), '> 6.03': LeafNode(label=\"Iris-versicolor\")}), '> 2.93': DecisionNode(feature=\"sepallength\", children={'<= 6.60': LeafNode(label=\"Iris-versicolor\"), '> 6.60': LeafNode(label=\"Iris-versicolor\")})})}\n",
      "{'<= 5.50': DecisionNode(feature=\"sepalwidth\", children={'<= 3.57': LeafNode(label=\"Iris-setosa\"), '> 3.57': LeafNode(label=\"Iris-setosa\")}), '> 5.50': DecisionNode(feature=\"sepalwidth\", children={'<= 3.67': LeafNode(label=\"Iris-versicolor\"), '> 3.67': LeafNode(label=\"Iris-setosa\")})}\n",
      "{'<= 3.57': LeafNode(label=\"Iris-setosa\"), '> 3.57': LeafNode(label=\"Iris-setosa\")}\n",
      "{'<= 1.70': DecisionNode(feature=\"petallength\", children={'<= 4.20': DecisionNode(feature=\"sepallength\", children={'<= 5.50': DecisionNode(feature=\"sepalwidth\", children={'<= 3.57': LeafNode(label=\"Iris-setosa\"), '> 3.57': LeafNode(label=\"Iris-setosa\")}), '> 5.50': DecisionNode(feature=\"sepalwidth\", children={'<= 3.67': LeafNode(label=\"Iris-versicolor\"), '> 3.67': LeafNode(label=\"Iris-setosa\")})}), '> 4.20': DecisionNode(feature=\"sepalwidth\", children={'<= 2.93': DecisionNode(feature=\"sepallength\", children={'<= 6.03': LeafNode(label=\"Iris-versicolor\"), '> 6.03': LeafNode(label=\"Iris-versicolor\")}), '> 2.93': DecisionNode(feature=\"sepallength\", children={'<= 6.60': LeafNode(label=\"Iris-versicolor\"), '> 6.60': LeafNode(label=\"Iris-versicolor\")})})}), '> 1.70': DecisionNode(feature=\"sepallength\", children={'<= 7.13': DecisionNode(feature=\"sepalwidth\", children={'<= 3.10': LeafNode(label=\"Iris-virginica\"), '> 3.10': DecisionNode(feature=\"petallength\", children={'<= 5.60': LeafNode(label=\"Iris-virginica\"), '> 5.60': LeafNode(label=\"Iris-virginica\")})}), '> 7.13': LeafNode(label=\"Iris-virginica\")})}\n",
      "{'<= 4.20': DecisionNode(feature=\"sepallength\", children={'<= 5.50': DecisionNode(feature=\"sepalwidth\", children={'<= 3.57': LeafNode(label=\"Iris-setosa\"), '> 3.57': LeafNode(label=\"Iris-setosa\")}), '> 5.50': DecisionNode(feature=\"sepalwidth\", children={'<= 3.67': LeafNode(label=\"Iris-versicolor\"), '> 3.67': LeafNode(label=\"Iris-setosa\")})}), '> 4.20': DecisionNode(feature=\"sepalwidth\", children={'<= 2.93': DecisionNode(feature=\"sepallength\", children={'<= 6.03': LeafNode(label=\"Iris-versicolor\"), '> 6.03': LeafNode(label=\"Iris-versicolor\")}), '> 2.93': DecisionNode(feature=\"sepallength\", children={'<= 6.60': LeafNode(label=\"Iris-versicolor\"), '> 6.60': LeafNode(label=\"Iris-versicolor\")})})}\n",
      "{'<= 4.20': DecisionNode(feature=\"sepallength\", children={'<= 5.50': DecisionNode(feature=\"sepalwidth\", children={'<= 3.57': LeafNode(label=\"Iris-setosa\"), '> 3.57': LeafNode(label=\"Iris-setosa\")}), '> 5.50': DecisionNode(feature=\"sepalwidth\", children={'<= 3.67': LeafNode(label=\"Iris-versicolor\"), '> 3.67': LeafNode(label=\"Iris-setosa\")})}), '> 4.20': DecisionNode(feature=\"sepalwidth\", children={'<= 2.93': DecisionNode(feature=\"sepallength\", children={'<= 6.03': LeafNode(label=\"Iris-versicolor\"), '> 6.03': LeafNode(label=\"Iris-versicolor\")}), '> 2.93': DecisionNode(feature=\"sepallength\", children={'<= 6.60': LeafNode(label=\"Iris-versicolor\"), '> 6.60': LeafNode(label=\"Iris-versicolor\")})})}\n",
      "{'<= 2.93': DecisionNode(feature=\"sepallength\", children={'<= 6.03': LeafNode(label=\"Iris-versicolor\"), '> 6.03': LeafNode(label=\"Iris-versicolor\")}), '> 2.93': DecisionNode(feature=\"sepallength\", children={'<= 6.60': LeafNode(label=\"Iris-versicolor\"), '> 6.60': LeafNode(label=\"Iris-versicolor\")})}\n",
      "{'<= 6.03': LeafNode(label=\"Iris-versicolor\"), '> 6.03': LeafNode(label=\"Iris-versicolor\")}\n",
      "{'<= 1.70': DecisionNode(feature=\"petallength\", children={'<= 4.20': DecisionNode(feature=\"sepallength\", children={'<= 5.50': DecisionNode(feature=\"sepalwidth\", children={'<= 3.57': LeafNode(label=\"Iris-setosa\"), '> 3.57': LeafNode(label=\"Iris-setosa\")}), '> 5.50': DecisionNode(feature=\"sepalwidth\", children={'<= 3.67': LeafNode(label=\"Iris-versicolor\"), '> 3.67': LeafNode(label=\"Iris-setosa\")})}), '> 4.20': DecisionNode(feature=\"sepalwidth\", children={'<= 2.93': DecisionNode(feature=\"sepallength\", children={'<= 6.03': LeafNode(label=\"Iris-versicolor\"), '> 6.03': LeafNode(label=\"Iris-versicolor\")}), '> 2.93': DecisionNode(feature=\"sepallength\", children={'<= 6.60': LeafNode(label=\"Iris-versicolor\"), '> 6.60': LeafNode(label=\"Iris-versicolor\")})})}), '> 1.70': DecisionNode(feature=\"sepallength\", children={'<= 7.13': DecisionNode(feature=\"sepalwidth\", children={'<= 3.10': LeafNode(label=\"Iris-virginica\"), '> 3.10': DecisionNode(feature=\"petallength\", children={'<= 5.60': LeafNode(label=\"Iris-virginica\"), '> 5.60': LeafNode(label=\"Iris-virginica\")})}), '> 7.13': LeafNode(label=\"Iris-virginica\")})}\n",
      "{'<= 4.20': DecisionNode(feature=\"sepallength\", children={'<= 5.50': DecisionNode(feature=\"sepalwidth\", children={'<= 3.57': LeafNode(label=\"Iris-setosa\"), '> 3.57': LeafNode(label=\"Iris-setosa\")}), '> 5.50': DecisionNode(feature=\"sepalwidth\", children={'<= 3.67': LeafNode(label=\"Iris-versicolor\"), '> 3.67': LeafNode(label=\"Iris-setosa\")})}), '> 4.20': DecisionNode(feature=\"sepalwidth\", children={'<= 2.93': DecisionNode(feature=\"sepallength\", children={'<= 6.03': LeafNode(label=\"Iris-versicolor\"), '> 6.03': LeafNode(label=\"Iris-versicolor\")}), '> 2.93': DecisionNode(feature=\"sepallength\", children={'<= 6.60': LeafNode(label=\"Iris-versicolor\"), '> 6.60': LeafNode(label=\"Iris-versicolor\")})})}\n",
      "{'<= 4.20': DecisionNode(feature=\"sepallength\", children={'<= 5.50': DecisionNode(feature=\"sepalwidth\", children={'<= 3.57': LeafNode(label=\"Iris-setosa\"), '> 3.57': LeafNode(label=\"Iris-setosa\")}), '> 5.50': DecisionNode(feature=\"sepalwidth\", children={'<= 3.67': LeafNode(label=\"Iris-versicolor\"), '> 3.67': LeafNode(label=\"Iris-setosa\")})}), '> 4.20': DecisionNode(feature=\"sepalwidth\", children={'<= 2.93': DecisionNode(feature=\"sepallength\", children={'<= 6.03': LeafNode(label=\"Iris-versicolor\"), '> 6.03': LeafNode(label=\"Iris-versicolor\")}), '> 2.93': DecisionNode(feature=\"sepallength\", children={'<= 6.60': LeafNode(label=\"Iris-versicolor\"), '> 6.60': LeafNode(label=\"Iris-versicolor\")})})}\n",
      "{'<= 2.93': DecisionNode(feature=\"sepallength\", children={'<= 6.03': LeafNode(label=\"Iris-versicolor\"), '> 6.03': LeafNode(label=\"Iris-versicolor\")}), '> 2.93': DecisionNode(feature=\"sepallength\", children={'<= 6.60': LeafNode(label=\"Iris-versicolor\"), '> 6.60': LeafNode(label=\"Iris-versicolor\")})}\n",
      "{'<= 2.93': DecisionNode(feature=\"sepallength\", children={'<= 6.03': LeafNode(label=\"Iris-versicolor\"), '> 6.03': LeafNode(label=\"Iris-versicolor\")}), '> 2.93': DecisionNode(feature=\"sepallength\", children={'<= 6.60': LeafNode(label=\"Iris-versicolor\"), '> 6.60': LeafNode(label=\"Iris-versicolor\")})}\n",
      "{'<= 6.60': LeafNode(label=\"Iris-versicolor\"), '> 6.60': LeafNode(label=\"Iris-versicolor\")}\n",
      "{'<= 1.70': DecisionNode(feature=\"petallength\", children={'<= 4.20': DecisionNode(feature=\"sepallength\", children={'<= 5.50': DecisionNode(feature=\"sepalwidth\", children={'<= 3.57': LeafNode(label=\"Iris-setosa\"), '> 3.57': LeafNode(label=\"Iris-setosa\")}), '> 5.50': DecisionNode(feature=\"sepalwidth\", children={'<= 3.67': LeafNode(label=\"Iris-versicolor\"), '> 3.67': LeafNode(label=\"Iris-setosa\")})}), '> 4.20': DecisionNode(feature=\"sepalwidth\", children={'<= 2.93': DecisionNode(feature=\"sepallength\", children={'<= 6.03': LeafNode(label=\"Iris-versicolor\"), '> 6.03': LeafNode(label=\"Iris-versicolor\")}), '> 2.93': DecisionNode(feature=\"sepallength\", children={'<= 6.60': LeafNode(label=\"Iris-versicolor\"), '> 6.60': LeafNode(label=\"Iris-versicolor\")})})}), '> 1.70': DecisionNode(feature=\"sepallength\", children={'<= 7.13': DecisionNode(feature=\"sepalwidth\", children={'<= 3.10': LeafNode(label=\"Iris-virginica\"), '> 3.10': DecisionNode(feature=\"petallength\", children={'<= 5.60': LeafNode(label=\"Iris-virginica\"), '> 5.60': LeafNode(label=\"Iris-virginica\")})}), '> 7.13': LeafNode(label=\"Iris-virginica\")})}\n",
      "{'<= 1.70': DecisionNode(feature=\"petallength\", children={'<= 4.20': DecisionNode(feature=\"sepallength\", children={'<= 5.50': DecisionNode(feature=\"sepalwidth\", children={'<= 3.57': LeafNode(label=\"Iris-setosa\"), '> 3.57': LeafNode(label=\"Iris-setosa\")}), '> 5.50': DecisionNode(feature=\"sepalwidth\", children={'<= 3.67': LeafNode(label=\"Iris-versicolor\"), '> 3.67': LeafNode(label=\"Iris-setosa\")})}), '> 4.20': DecisionNode(feature=\"sepalwidth\", children={'<= 2.93': DecisionNode(feature=\"sepallength\", children={'<= 6.03': LeafNode(label=\"Iris-versicolor\"), '> 6.03': LeafNode(label=\"Iris-versicolor\")}), '> 2.93': DecisionNode(feature=\"sepallength\", children={'<= 6.60': LeafNode(label=\"Iris-versicolor\"), '> 6.60': LeafNode(label=\"Iris-versicolor\")})})}), '> 1.70': DecisionNode(feature=\"sepallength\", children={'<= 7.13': DecisionNode(feature=\"sepalwidth\", children={'<= 3.10': LeafNode(label=\"Iris-virginica\"), '> 3.10': DecisionNode(feature=\"petallength\", children={'<= 5.60': LeafNode(label=\"Iris-virginica\"), '> 5.60': LeafNode(label=\"Iris-virginica\")})}), '> 7.13': LeafNode(label=\"Iris-virginica\")})}\n",
      "{'<= 7.13': DecisionNode(feature=\"sepalwidth\", children={'<= 3.10': LeafNode(label=\"Iris-virginica\"), '> 3.10': DecisionNode(feature=\"petallength\", children={'<= 5.60': LeafNode(label=\"Iris-virginica\"), '> 5.60': LeafNode(label=\"Iris-virginica\")})}), '> 7.13': LeafNode(label=\"Iris-virginica\")}\n",
      "{'<= 3.10': LeafNode(label=\"Iris-virginica\"), '> 3.10': DecisionNode(feature=\"petallength\", children={'<= 5.60': LeafNode(label=\"Iris-virginica\"), '> 5.60': LeafNode(label=\"Iris-virginica\")})}\n",
      "{'<= 1.70': DecisionNode(feature=\"petallength\", children={'<= 4.20': DecisionNode(feature=\"sepallength\", children={'<= 5.50': DecisionNode(feature=\"sepalwidth\", children={'<= 3.57': LeafNode(label=\"Iris-setosa\"), '> 3.57': LeafNode(label=\"Iris-setosa\")}), '> 5.50': DecisionNode(feature=\"sepalwidth\", children={'<= 3.67': LeafNode(label=\"Iris-versicolor\"), '> 3.67': LeafNode(label=\"Iris-setosa\")})}), '> 4.20': DecisionNode(feature=\"sepalwidth\", children={'<= 2.93': DecisionNode(feature=\"sepallength\", children={'<= 6.03': LeafNode(label=\"Iris-versicolor\"), '> 6.03': LeafNode(label=\"Iris-versicolor\")}), '> 2.93': DecisionNode(feature=\"sepallength\", children={'<= 6.60': LeafNode(label=\"Iris-versicolor\"), '> 6.60': LeafNode(label=\"Iris-versicolor\")})})}), '> 1.70': DecisionNode(feature=\"sepallength\", children={'<= 7.13': DecisionNode(feature=\"sepalwidth\", children={'<= 3.10': LeafNode(label=\"Iris-virginica\"), '> 3.10': DecisionNode(feature=\"petallength\", children={'<= 5.60': LeafNode(label=\"Iris-virginica\"), '> 5.60': LeafNode(label=\"Iris-virginica\")})}), '> 7.13': LeafNode(label=\"Iris-virginica\")})}\n",
      "{'<= 4.20': DecisionNode(feature=\"sepallength\", children={'<= 5.50': DecisionNode(feature=\"sepalwidth\", children={'<= 3.57': LeafNode(label=\"Iris-setosa\"), '> 3.57': LeafNode(label=\"Iris-setosa\")}), '> 5.50': DecisionNode(feature=\"sepalwidth\", children={'<= 3.67': LeafNode(label=\"Iris-versicolor\"), '> 3.67': LeafNode(label=\"Iris-setosa\")})}), '> 4.20': DecisionNode(feature=\"sepalwidth\", children={'<= 2.93': DecisionNode(feature=\"sepallength\", children={'<= 6.03': LeafNode(label=\"Iris-versicolor\"), '> 6.03': LeafNode(label=\"Iris-versicolor\")}), '> 2.93': DecisionNode(feature=\"sepallength\", children={'<= 6.60': LeafNode(label=\"Iris-versicolor\"), '> 6.60': LeafNode(label=\"Iris-versicolor\")})})}\n",
      "{'<= 5.50': DecisionNode(feature=\"sepalwidth\", children={'<= 3.57': LeafNode(label=\"Iris-setosa\"), '> 3.57': LeafNode(label=\"Iris-setosa\")}), '> 5.50': DecisionNode(feature=\"sepalwidth\", children={'<= 3.67': LeafNode(label=\"Iris-versicolor\"), '> 3.67': LeafNode(label=\"Iris-setosa\")})}\n",
      "{'<= 3.57': LeafNode(label=\"Iris-setosa\"), '> 3.57': LeafNode(label=\"Iris-setosa\")}\n",
      "{'<= 1.70': DecisionNode(feature=\"petallength\", children={'<= 4.20': DecisionNode(feature=\"sepallength\", children={'<= 5.50': DecisionNode(feature=\"sepalwidth\", children={'<= 3.57': LeafNode(label=\"Iris-setosa\"), '> 3.57': LeafNode(label=\"Iris-setosa\")}), '> 5.50': DecisionNode(feature=\"sepalwidth\", children={'<= 3.67': LeafNode(label=\"Iris-versicolor\"), '> 3.67': LeafNode(label=\"Iris-setosa\")})}), '> 4.20': DecisionNode(feature=\"sepalwidth\", children={'<= 2.93': DecisionNode(feature=\"sepallength\", children={'<= 6.03': LeafNode(label=\"Iris-versicolor\"), '> 6.03': LeafNode(label=\"Iris-versicolor\")}), '> 2.93': DecisionNode(feature=\"sepallength\", children={'<= 6.60': LeafNode(label=\"Iris-versicolor\"), '> 6.60': LeafNode(label=\"Iris-versicolor\")})})}), '> 1.70': DecisionNode(feature=\"sepallength\", children={'<= 7.13': DecisionNode(feature=\"sepalwidth\", children={'<= 3.10': LeafNode(label=\"Iris-virginica\"), '> 3.10': DecisionNode(feature=\"petallength\", children={'<= 5.60': LeafNode(label=\"Iris-virginica\"), '> 5.60': LeafNode(label=\"Iris-virginica\")})}), '> 7.13': LeafNode(label=\"Iris-virginica\")})}\n",
      "{'<= 4.20': DecisionNode(feature=\"sepallength\", children={'<= 5.50': DecisionNode(feature=\"sepalwidth\", children={'<= 3.57': LeafNode(label=\"Iris-setosa\"), '> 3.57': LeafNode(label=\"Iris-setosa\")}), '> 5.50': DecisionNode(feature=\"sepalwidth\", children={'<= 3.67': LeafNode(label=\"Iris-versicolor\"), '> 3.67': LeafNode(label=\"Iris-setosa\")})}), '> 4.20': DecisionNode(feature=\"sepalwidth\", children={'<= 2.93': DecisionNode(feature=\"sepallength\", children={'<= 6.03': LeafNode(label=\"Iris-versicolor\"), '> 6.03': LeafNode(label=\"Iris-versicolor\")}), '> 2.93': DecisionNode(feature=\"sepallength\", children={'<= 6.60': LeafNode(label=\"Iris-versicolor\"), '> 6.60': LeafNode(label=\"Iris-versicolor\")})})}\n",
      "{'<= 5.50': DecisionNode(feature=\"sepalwidth\", children={'<= 3.57': LeafNode(label=\"Iris-setosa\"), '> 3.57': LeafNode(label=\"Iris-setosa\")}), '> 5.50': DecisionNode(feature=\"sepalwidth\", children={'<= 3.67': LeafNode(label=\"Iris-versicolor\"), '> 3.67': LeafNode(label=\"Iris-setosa\")})}\n",
      "{'<= 3.57': LeafNode(label=\"Iris-setosa\"), '> 3.57': LeafNode(label=\"Iris-setosa\")}\n",
      "{'<= 1.70': DecisionNode(feature=\"petallength\", children={'<= 4.20': DecisionNode(feature=\"sepallength\", children={'<= 5.50': DecisionNode(feature=\"sepalwidth\", children={'<= 3.57': LeafNode(label=\"Iris-setosa\"), '> 3.57': LeafNode(label=\"Iris-setosa\")}), '> 5.50': DecisionNode(feature=\"sepalwidth\", children={'<= 3.67': LeafNode(label=\"Iris-versicolor\"), '> 3.67': LeafNode(label=\"Iris-setosa\")})}), '> 4.20': DecisionNode(feature=\"sepalwidth\", children={'<= 2.93': DecisionNode(feature=\"sepallength\", children={'<= 6.03': LeafNode(label=\"Iris-versicolor\"), '> 6.03': LeafNode(label=\"Iris-versicolor\")}), '> 2.93': DecisionNode(feature=\"sepallength\", children={'<= 6.60': LeafNode(label=\"Iris-versicolor\"), '> 6.60': LeafNode(label=\"Iris-versicolor\")})})}), '> 1.70': DecisionNode(feature=\"sepallength\", children={'<= 7.13': DecisionNode(feature=\"sepalwidth\", children={'<= 3.10': LeafNode(label=\"Iris-virginica\"), '> 3.10': DecisionNode(feature=\"petallength\", children={'<= 5.60': LeafNode(label=\"Iris-virginica\"), '> 5.60': LeafNode(label=\"Iris-virginica\")})}), '> 7.13': LeafNode(label=\"Iris-virginica\")})}\n",
      "{'<= 4.20': DecisionNode(feature=\"sepallength\", children={'<= 5.50': DecisionNode(feature=\"sepalwidth\", children={'<= 3.57': LeafNode(label=\"Iris-setosa\"), '> 3.57': LeafNode(label=\"Iris-setosa\")}), '> 5.50': DecisionNode(feature=\"sepalwidth\", children={'<= 3.67': LeafNode(label=\"Iris-versicolor\"), '> 3.67': LeafNode(label=\"Iris-setosa\")})}), '> 4.20': DecisionNode(feature=\"sepalwidth\", children={'<= 2.93': DecisionNode(feature=\"sepallength\", children={'<= 6.03': LeafNode(label=\"Iris-versicolor\"), '> 6.03': LeafNode(label=\"Iris-versicolor\")}), '> 2.93': DecisionNode(feature=\"sepallength\", children={'<= 6.60': LeafNode(label=\"Iris-versicolor\"), '> 6.60': LeafNode(label=\"Iris-versicolor\")})})}\n",
      "{'<= 5.50': DecisionNode(feature=\"sepalwidth\", children={'<= 3.57': LeafNode(label=\"Iris-setosa\"), '> 3.57': LeafNode(label=\"Iris-setosa\")}), '> 5.50': DecisionNode(feature=\"sepalwidth\", children={'<= 3.67': LeafNode(label=\"Iris-versicolor\"), '> 3.67': LeafNode(label=\"Iris-setosa\")})}\n",
      "{'<= 3.57': LeafNode(label=\"Iris-setosa\"), '> 3.57': LeafNode(label=\"Iris-setosa\")}\n",
      "{'<= 3.57': LeafNode(label=\"Iris-setosa\"), '> 3.57': LeafNode(label=\"Iris-setosa\")}\n",
      "{'<= 1.70': DecisionNode(feature=\"petallength\", children={'<= 4.20': DecisionNode(feature=\"sepallength\", children={'<= 5.50': DecisionNode(feature=\"sepalwidth\", children={'<= 3.57': LeafNode(label=\"Iris-setosa\"), '> 3.57': LeafNode(label=\"Iris-setosa\")}), '> 5.50': DecisionNode(feature=\"sepalwidth\", children={'<= 3.67': LeafNode(label=\"Iris-versicolor\"), '> 3.67': LeafNode(label=\"Iris-setosa\")})}), '> 4.20': DecisionNode(feature=\"sepalwidth\", children={'<= 2.93': DecisionNode(feature=\"sepallength\", children={'<= 6.03': LeafNode(label=\"Iris-versicolor\"), '> 6.03': LeafNode(label=\"Iris-versicolor\")}), '> 2.93': DecisionNode(feature=\"sepallength\", children={'<= 6.60': LeafNode(label=\"Iris-versicolor\"), '> 6.60': LeafNode(label=\"Iris-versicolor\")})})}), '> 1.70': DecisionNode(feature=\"sepallength\", children={'<= 7.13': DecisionNode(feature=\"sepalwidth\", children={'<= 3.10': LeafNode(label=\"Iris-virginica\"), '> 3.10': DecisionNode(feature=\"petallength\", children={'<= 5.60': LeafNode(label=\"Iris-virginica\"), '> 5.60': LeafNode(label=\"Iris-virginica\")})}), '> 7.13': LeafNode(label=\"Iris-virginica\")})}\n",
      "{'<= 1.70': DecisionNode(feature=\"petallength\", children={'<= 4.20': DecisionNode(feature=\"sepallength\", children={'<= 5.50': DecisionNode(feature=\"sepalwidth\", children={'<= 3.57': LeafNode(label=\"Iris-setosa\"), '> 3.57': LeafNode(label=\"Iris-setosa\")}), '> 5.50': DecisionNode(feature=\"sepalwidth\", children={'<= 3.67': LeafNode(label=\"Iris-versicolor\"), '> 3.67': LeafNode(label=\"Iris-setosa\")})}), '> 4.20': DecisionNode(feature=\"sepalwidth\", children={'<= 2.93': DecisionNode(feature=\"sepallength\", children={'<= 6.03': LeafNode(label=\"Iris-versicolor\"), '> 6.03': LeafNode(label=\"Iris-versicolor\")}), '> 2.93': DecisionNode(feature=\"sepallength\", children={'<= 6.60': LeafNode(label=\"Iris-versicolor\"), '> 6.60': LeafNode(label=\"Iris-versicolor\")})})}), '> 1.70': DecisionNode(feature=\"sepallength\", children={'<= 7.13': DecisionNode(feature=\"sepalwidth\", children={'<= 3.10': LeafNode(label=\"Iris-virginica\"), '> 3.10': DecisionNode(feature=\"petallength\", children={'<= 5.60': LeafNode(label=\"Iris-virginica\"), '> 5.60': LeafNode(label=\"Iris-virginica\")})}), '> 7.13': LeafNode(label=\"Iris-virginica\")})}\n",
      "{'<= 7.13': DecisionNode(feature=\"sepalwidth\", children={'<= 3.10': LeafNode(label=\"Iris-virginica\"), '> 3.10': DecisionNode(feature=\"petallength\", children={'<= 5.60': LeafNode(label=\"Iris-virginica\"), '> 5.60': LeafNode(label=\"Iris-virginica\")})}), '> 7.13': LeafNode(label=\"Iris-virginica\")}\n",
      "{'<= 3.10': LeafNode(label=\"Iris-virginica\"), '> 3.10': DecisionNode(feature=\"petallength\", children={'<= 5.60': LeafNode(label=\"Iris-virginica\"), '> 5.60': LeafNode(label=\"Iris-virginica\")})}\n",
      "{'<= 1.70': DecisionNode(feature=\"petallength\", children={'<= 4.20': DecisionNode(feature=\"sepallength\", children={'<= 5.50': DecisionNode(feature=\"sepalwidth\", children={'<= 3.57': LeafNode(label=\"Iris-setosa\"), '> 3.57': LeafNode(label=\"Iris-setosa\")}), '> 5.50': DecisionNode(feature=\"sepalwidth\", children={'<= 3.67': LeafNode(label=\"Iris-versicolor\"), '> 3.67': LeafNode(label=\"Iris-setosa\")})}), '> 4.20': DecisionNode(feature=\"sepalwidth\", children={'<= 2.93': DecisionNode(feature=\"sepallength\", children={'<= 6.03': LeafNode(label=\"Iris-versicolor\"), '> 6.03': LeafNode(label=\"Iris-versicolor\")}), '> 2.93': DecisionNode(feature=\"sepallength\", children={'<= 6.60': LeafNode(label=\"Iris-versicolor\"), '> 6.60': LeafNode(label=\"Iris-versicolor\")})})}), '> 1.70': DecisionNode(feature=\"sepallength\", children={'<= 7.13': DecisionNode(feature=\"sepalwidth\", children={'<= 3.10': LeafNode(label=\"Iris-virginica\"), '> 3.10': DecisionNode(feature=\"petallength\", children={'<= 5.60': LeafNode(label=\"Iris-virginica\"), '> 5.60': LeafNode(label=\"Iris-virginica\")})}), '> 7.13': LeafNode(label=\"Iris-virginica\")})}\n",
      "{'<= 4.20': DecisionNode(feature=\"sepallength\", children={'<= 5.50': DecisionNode(feature=\"sepalwidth\", children={'<= 3.57': LeafNode(label=\"Iris-setosa\"), '> 3.57': LeafNode(label=\"Iris-setosa\")}), '> 5.50': DecisionNode(feature=\"sepalwidth\", children={'<= 3.67': LeafNode(label=\"Iris-versicolor\"), '> 3.67': LeafNode(label=\"Iris-setosa\")})}), '> 4.20': DecisionNode(feature=\"sepalwidth\", children={'<= 2.93': DecisionNode(feature=\"sepallength\", children={'<= 6.03': LeafNode(label=\"Iris-versicolor\"), '> 6.03': LeafNode(label=\"Iris-versicolor\")}), '> 2.93': DecisionNode(feature=\"sepallength\", children={'<= 6.60': LeafNode(label=\"Iris-versicolor\"), '> 6.60': LeafNode(label=\"Iris-versicolor\")})})}\n",
      "{'<= 4.20': DecisionNode(feature=\"sepallength\", children={'<= 5.50': DecisionNode(feature=\"sepalwidth\", children={'<= 3.57': LeafNode(label=\"Iris-setosa\"), '> 3.57': LeafNode(label=\"Iris-setosa\")}), '> 5.50': DecisionNode(feature=\"sepalwidth\", children={'<= 3.67': LeafNode(label=\"Iris-versicolor\"), '> 3.67': LeafNode(label=\"Iris-setosa\")})}), '> 4.20': DecisionNode(feature=\"sepalwidth\", children={'<= 2.93': DecisionNode(feature=\"sepallength\", children={'<= 6.03': LeafNode(label=\"Iris-versicolor\"), '> 6.03': LeafNode(label=\"Iris-versicolor\")}), '> 2.93': DecisionNode(feature=\"sepallength\", children={'<= 6.60': LeafNode(label=\"Iris-versicolor\"), '> 6.60': LeafNode(label=\"Iris-versicolor\")})})}\n",
      "{'<= 2.93': DecisionNode(feature=\"sepallength\", children={'<= 6.03': LeafNode(label=\"Iris-versicolor\"), '> 6.03': LeafNode(label=\"Iris-versicolor\")}), '> 2.93': DecisionNode(feature=\"sepallength\", children={'<= 6.60': LeafNode(label=\"Iris-versicolor\"), '> 6.60': LeafNode(label=\"Iris-versicolor\")})}\n",
      "{'<= 2.93': DecisionNode(feature=\"sepallength\", children={'<= 6.03': LeafNode(label=\"Iris-versicolor\"), '> 6.03': LeafNode(label=\"Iris-versicolor\")}), '> 2.93': DecisionNode(feature=\"sepallength\", children={'<= 6.60': LeafNode(label=\"Iris-versicolor\"), '> 6.60': LeafNode(label=\"Iris-versicolor\")})}\n",
      "{'<= 6.60': LeafNode(label=\"Iris-versicolor\"), '> 6.60': LeafNode(label=\"Iris-versicolor\")}\n",
      "{'<= 1.70': DecisionNode(feature=\"petallength\", children={'<= 4.20': DecisionNode(feature=\"sepallength\", children={'<= 5.50': DecisionNode(feature=\"sepalwidth\", children={'<= 3.57': LeafNode(label=\"Iris-setosa\"), '> 3.57': LeafNode(label=\"Iris-setosa\")}), '> 5.50': DecisionNode(feature=\"sepalwidth\", children={'<= 3.67': LeafNode(label=\"Iris-versicolor\"), '> 3.67': LeafNode(label=\"Iris-setosa\")})}), '> 4.20': DecisionNode(feature=\"sepalwidth\", children={'<= 2.93': DecisionNode(feature=\"sepallength\", children={'<= 6.03': LeafNode(label=\"Iris-versicolor\"), '> 6.03': LeafNode(label=\"Iris-versicolor\")}), '> 2.93': DecisionNode(feature=\"sepallength\", children={'<= 6.60': LeafNode(label=\"Iris-versicolor\"), '> 6.60': LeafNode(label=\"Iris-versicolor\")})})}), '> 1.70': DecisionNode(feature=\"sepallength\", children={'<= 7.13': DecisionNode(feature=\"sepalwidth\", children={'<= 3.10': LeafNode(label=\"Iris-virginica\"), '> 3.10': DecisionNode(feature=\"petallength\", children={'<= 5.60': LeafNode(label=\"Iris-virginica\"), '> 5.60': LeafNode(label=\"Iris-virginica\")})}), '> 7.13': LeafNode(label=\"Iris-virginica\")})}\n",
      "{'<= 4.20': DecisionNode(feature=\"sepallength\", children={'<= 5.50': DecisionNode(feature=\"sepalwidth\", children={'<= 3.57': LeafNode(label=\"Iris-setosa\"), '> 3.57': LeafNode(label=\"Iris-setosa\")}), '> 5.50': DecisionNode(feature=\"sepalwidth\", children={'<= 3.67': LeafNode(label=\"Iris-versicolor\"), '> 3.67': LeafNode(label=\"Iris-setosa\")})}), '> 4.20': DecisionNode(feature=\"sepalwidth\", children={'<= 2.93': DecisionNode(feature=\"sepallength\", children={'<= 6.03': LeafNode(label=\"Iris-versicolor\"), '> 6.03': LeafNode(label=\"Iris-versicolor\")}), '> 2.93': DecisionNode(feature=\"sepallength\", children={'<= 6.60': LeafNode(label=\"Iris-versicolor\"), '> 6.60': LeafNode(label=\"Iris-versicolor\")})})}\n",
      "{'<= 5.50': DecisionNode(feature=\"sepalwidth\", children={'<= 3.57': LeafNode(label=\"Iris-setosa\"), '> 3.57': LeafNode(label=\"Iris-setosa\")}), '> 5.50': DecisionNode(feature=\"sepalwidth\", children={'<= 3.67': LeafNode(label=\"Iris-versicolor\"), '> 3.67': LeafNode(label=\"Iris-setosa\")})}\n",
      "{'<= 3.57': LeafNode(label=\"Iris-setosa\"), '> 3.57': LeafNode(label=\"Iris-setosa\")}\n",
      "{'<= 1.70': DecisionNode(feature=\"petallength\", children={'<= 4.20': DecisionNode(feature=\"sepallength\", children={'<= 5.50': DecisionNode(feature=\"sepalwidth\", children={'<= 3.57': LeafNode(label=\"Iris-setosa\"), '> 3.57': LeafNode(label=\"Iris-setosa\")}), '> 5.50': DecisionNode(feature=\"sepalwidth\", children={'<= 3.67': LeafNode(label=\"Iris-versicolor\"), '> 3.67': LeafNode(label=\"Iris-setosa\")})}), '> 4.20': DecisionNode(feature=\"sepalwidth\", children={'<= 2.93': DecisionNode(feature=\"sepallength\", children={'<= 6.03': LeafNode(label=\"Iris-versicolor\"), '> 6.03': LeafNode(label=\"Iris-versicolor\")}), '> 2.93': DecisionNode(feature=\"sepallength\", children={'<= 6.60': LeafNode(label=\"Iris-versicolor\"), '> 6.60': LeafNode(label=\"Iris-versicolor\")})})}), '> 1.70': DecisionNode(feature=\"sepallength\", children={'<= 7.13': DecisionNode(feature=\"sepalwidth\", children={'<= 3.10': LeafNode(label=\"Iris-virginica\"), '> 3.10': DecisionNode(feature=\"petallength\", children={'<= 5.60': LeafNode(label=\"Iris-virginica\"), '> 5.60': LeafNode(label=\"Iris-virginica\")})}), '> 7.13': LeafNode(label=\"Iris-virginica\")})}\n",
      "{'<= 4.20': DecisionNode(feature=\"sepallength\", children={'<= 5.50': DecisionNode(feature=\"sepalwidth\", children={'<= 3.57': LeafNode(label=\"Iris-setosa\"), '> 3.57': LeafNode(label=\"Iris-setosa\")}), '> 5.50': DecisionNode(feature=\"sepalwidth\", children={'<= 3.67': LeafNode(label=\"Iris-versicolor\"), '> 3.67': LeafNode(label=\"Iris-setosa\")})}), '> 4.20': DecisionNode(feature=\"sepalwidth\", children={'<= 2.93': DecisionNode(feature=\"sepallength\", children={'<= 6.03': LeafNode(label=\"Iris-versicolor\"), '> 6.03': LeafNode(label=\"Iris-versicolor\")}), '> 2.93': DecisionNode(feature=\"sepallength\", children={'<= 6.60': LeafNode(label=\"Iris-versicolor\"), '> 6.60': LeafNode(label=\"Iris-versicolor\")})})}\n",
      "{'<= 5.50': DecisionNode(feature=\"sepalwidth\", children={'<= 3.57': LeafNode(label=\"Iris-setosa\"), '> 3.57': LeafNode(label=\"Iris-setosa\")}), '> 5.50': DecisionNode(feature=\"sepalwidth\", children={'<= 3.67': LeafNode(label=\"Iris-versicolor\"), '> 3.67': LeafNode(label=\"Iris-setosa\")})}\n",
      "{'<= 3.57': LeafNode(label=\"Iris-setosa\"), '> 3.57': LeafNode(label=\"Iris-setosa\")}\n",
      "{'<= 3.57': LeafNode(label=\"Iris-setosa\"), '> 3.57': LeafNode(label=\"Iris-setosa\")}\n",
      "{'<= 1.70': DecisionNode(feature=\"petallength\", children={'<= 4.20': DecisionNode(feature=\"sepallength\", children={'<= 5.50': DecisionNode(feature=\"sepalwidth\", children={'<= 3.57': LeafNode(label=\"Iris-setosa\"), '> 3.57': LeafNode(label=\"Iris-setosa\")}), '> 5.50': DecisionNode(feature=\"sepalwidth\", children={'<= 3.67': LeafNode(label=\"Iris-versicolor\"), '> 3.67': LeafNode(label=\"Iris-setosa\")})}), '> 4.20': DecisionNode(feature=\"sepalwidth\", children={'<= 2.93': DecisionNode(feature=\"sepallength\", children={'<= 6.03': LeafNode(label=\"Iris-versicolor\"), '> 6.03': LeafNode(label=\"Iris-versicolor\")}), '> 2.93': DecisionNode(feature=\"sepallength\", children={'<= 6.60': LeafNode(label=\"Iris-versicolor\"), '> 6.60': LeafNode(label=\"Iris-versicolor\")})})}), '> 1.70': DecisionNode(feature=\"sepallength\", children={'<= 7.13': DecisionNode(feature=\"sepalwidth\", children={'<= 3.10': LeafNode(label=\"Iris-virginica\"), '> 3.10': DecisionNode(feature=\"petallength\", children={'<= 5.60': LeafNode(label=\"Iris-virginica\"), '> 5.60': LeafNode(label=\"Iris-virginica\")})}), '> 7.13': LeafNode(label=\"Iris-virginica\")})}\n",
      "{'<= 4.20': DecisionNode(feature=\"sepallength\", children={'<= 5.50': DecisionNode(feature=\"sepalwidth\", children={'<= 3.57': LeafNode(label=\"Iris-setosa\"), '> 3.57': LeafNode(label=\"Iris-setosa\")}), '> 5.50': DecisionNode(feature=\"sepalwidth\", children={'<= 3.67': LeafNode(label=\"Iris-versicolor\"), '> 3.67': LeafNode(label=\"Iris-setosa\")})}), '> 4.20': DecisionNode(feature=\"sepalwidth\", children={'<= 2.93': DecisionNode(feature=\"sepallength\", children={'<= 6.03': LeafNode(label=\"Iris-versicolor\"), '> 6.03': LeafNode(label=\"Iris-versicolor\")}), '> 2.93': DecisionNode(feature=\"sepallength\", children={'<= 6.60': LeafNode(label=\"Iris-versicolor\"), '> 6.60': LeafNode(label=\"Iris-versicolor\")})})}\n",
      "{'<= 5.50': DecisionNode(feature=\"sepalwidth\", children={'<= 3.57': LeafNode(label=\"Iris-setosa\"), '> 3.57': LeafNode(label=\"Iris-setosa\")}), '> 5.50': DecisionNode(feature=\"sepalwidth\", children={'<= 3.67': LeafNode(label=\"Iris-versicolor\"), '> 3.67': LeafNode(label=\"Iris-setosa\")})}\n",
      "{'<= 3.57': LeafNode(label=\"Iris-setosa\"), '> 3.57': LeafNode(label=\"Iris-setosa\")}\n",
      "{'<= 1.70': DecisionNode(feature=\"petallength\", children={'<= 4.20': DecisionNode(feature=\"sepallength\", children={'<= 5.50': DecisionNode(feature=\"sepalwidth\", children={'<= 3.57': LeafNode(label=\"Iris-setosa\"), '> 3.57': LeafNode(label=\"Iris-setosa\")}), '> 5.50': DecisionNode(feature=\"sepalwidth\", children={'<= 3.67': LeafNode(label=\"Iris-versicolor\"), '> 3.67': LeafNode(label=\"Iris-setosa\")})}), '> 4.20': DecisionNode(feature=\"sepalwidth\", children={'<= 2.93': DecisionNode(feature=\"sepallength\", children={'<= 6.03': LeafNode(label=\"Iris-versicolor\"), '> 6.03': LeafNode(label=\"Iris-versicolor\")}), '> 2.93': DecisionNode(feature=\"sepallength\", children={'<= 6.60': LeafNode(label=\"Iris-versicolor\"), '> 6.60': LeafNode(label=\"Iris-versicolor\")})})}), '> 1.70': DecisionNode(feature=\"sepallength\", children={'<= 7.13': DecisionNode(feature=\"sepalwidth\", children={'<= 3.10': LeafNode(label=\"Iris-virginica\"), '> 3.10': DecisionNode(feature=\"petallength\", children={'<= 5.60': LeafNode(label=\"Iris-virginica\"), '> 5.60': LeafNode(label=\"Iris-virginica\")})}), '> 7.13': LeafNode(label=\"Iris-virginica\")})}\n",
      "{'<= 1.70': DecisionNode(feature=\"petallength\", children={'<= 4.20': DecisionNode(feature=\"sepallength\", children={'<= 5.50': DecisionNode(feature=\"sepalwidth\", children={'<= 3.57': LeafNode(label=\"Iris-setosa\"), '> 3.57': LeafNode(label=\"Iris-setosa\")}), '> 5.50': DecisionNode(feature=\"sepalwidth\", children={'<= 3.67': LeafNode(label=\"Iris-versicolor\"), '> 3.67': LeafNode(label=\"Iris-setosa\")})}), '> 4.20': DecisionNode(feature=\"sepalwidth\", children={'<= 2.93': DecisionNode(feature=\"sepallength\", children={'<= 6.03': LeafNode(label=\"Iris-versicolor\"), '> 6.03': LeafNode(label=\"Iris-versicolor\")}), '> 2.93': DecisionNode(feature=\"sepallength\", children={'<= 6.60': LeafNode(label=\"Iris-versicolor\"), '> 6.60': LeafNode(label=\"Iris-versicolor\")})})}), '> 1.70': DecisionNode(feature=\"sepallength\", children={'<= 7.13': DecisionNode(feature=\"sepalwidth\", children={'<= 3.10': LeafNode(label=\"Iris-virginica\"), '> 3.10': DecisionNode(feature=\"petallength\", children={'<= 5.60': LeafNode(label=\"Iris-virginica\"), '> 5.60': LeafNode(label=\"Iris-virginica\")})}), '> 7.13': LeafNode(label=\"Iris-virginica\")})}\n",
      "{'<= 7.13': DecisionNode(feature=\"sepalwidth\", children={'<= 3.10': LeafNode(label=\"Iris-virginica\"), '> 3.10': DecisionNode(feature=\"petallength\", children={'<= 5.60': LeafNode(label=\"Iris-virginica\"), '> 5.60': LeafNode(label=\"Iris-virginica\")})}), '> 7.13': LeafNode(label=\"Iris-virginica\")}\n",
      "{'<= 3.10': LeafNode(label=\"Iris-virginica\"), '> 3.10': DecisionNode(feature=\"petallength\", children={'<= 5.60': LeafNode(label=\"Iris-virginica\"), '> 5.60': LeafNode(label=\"Iris-virginica\")})}\n",
      "{'<= 1.70': DecisionNode(feature=\"petallength\", children={'<= 4.20': DecisionNode(feature=\"sepallength\", children={'<= 5.50': DecisionNode(feature=\"sepalwidth\", children={'<= 3.57': LeafNode(label=\"Iris-setosa\"), '> 3.57': LeafNode(label=\"Iris-setosa\")}), '> 5.50': DecisionNode(feature=\"sepalwidth\", children={'<= 3.67': LeafNode(label=\"Iris-versicolor\"), '> 3.67': LeafNode(label=\"Iris-setosa\")})}), '> 4.20': DecisionNode(feature=\"sepalwidth\", children={'<= 2.93': DecisionNode(feature=\"sepallength\", children={'<= 6.03': LeafNode(label=\"Iris-versicolor\"), '> 6.03': LeafNode(label=\"Iris-versicolor\")}), '> 2.93': DecisionNode(feature=\"sepallength\", children={'<= 6.60': LeafNode(label=\"Iris-versicolor\"), '> 6.60': LeafNode(label=\"Iris-versicolor\")})})}), '> 1.70': DecisionNode(feature=\"sepallength\", children={'<= 7.13': DecisionNode(feature=\"sepalwidth\", children={'<= 3.10': LeafNode(label=\"Iris-virginica\"), '> 3.10': DecisionNode(feature=\"petallength\", children={'<= 5.60': LeafNode(label=\"Iris-virginica\"), '> 5.60': LeafNode(label=\"Iris-virginica\")})}), '> 7.13': LeafNode(label=\"Iris-virginica\")})}\n",
      "{'<= 1.70': DecisionNode(feature=\"petallength\", children={'<= 4.20': DecisionNode(feature=\"sepallength\", children={'<= 5.50': DecisionNode(feature=\"sepalwidth\", children={'<= 3.57': LeafNode(label=\"Iris-setosa\"), '> 3.57': LeafNode(label=\"Iris-setosa\")}), '> 5.50': DecisionNode(feature=\"sepalwidth\", children={'<= 3.67': LeafNode(label=\"Iris-versicolor\"), '> 3.67': LeafNode(label=\"Iris-setosa\")})}), '> 4.20': DecisionNode(feature=\"sepalwidth\", children={'<= 2.93': DecisionNode(feature=\"sepallength\", children={'<= 6.03': LeafNode(label=\"Iris-versicolor\"), '> 6.03': LeafNode(label=\"Iris-versicolor\")}), '> 2.93': DecisionNode(feature=\"sepallength\", children={'<= 6.60': LeafNode(label=\"Iris-versicolor\"), '> 6.60': LeafNode(label=\"Iris-versicolor\")})})}), '> 1.70': DecisionNode(feature=\"sepallength\", children={'<= 7.13': DecisionNode(feature=\"sepalwidth\", children={'<= 3.10': LeafNode(label=\"Iris-virginica\"), '> 3.10': DecisionNode(feature=\"petallength\", children={'<= 5.60': LeafNode(label=\"Iris-virginica\"), '> 5.60': LeafNode(label=\"Iris-virginica\")})}), '> 7.13': LeafNode(label=\"Iris-virginica\")})}\n",
      "{'<= 7.13': DecisionNode(feature=\"sepalwidth\", children={'<= 3.10': LeafNode(label=\"Iris-virginica\"), '> 3.10': DecisionNode(feature=\"petallength\", children={'<= 5.60': LeafNode(label=\"Iris-virginica\"), '> 5.60': LeafNode(label=\"Iris-virginica\")})}), '> 7.13': LeafNode(label=\"Iris-virginica\")}\n",
      "{'<= 3.10': LeafNode(label=\"Iris-virginica\"), '> 3.10': DecisionNode(feature=\"petallength\", children={'<= 5.60': LeafNode(label=\"Iris-virginica\"), '> 5.60': LeafNode(label=\"Iris-virginica\")})}\n",
      "{'<= 1.70': DecisionNode(feature=\"petallength\", children={'<= 4.20': DecisionNode(feature=\"sepallength\", children={'<= 5.50': DecisionNode(feature=\"sepalwidth\", children={'<= 3.57': LeafNode(label=\"Iris-setosa\"), '> 3.57': LeafNode(label=\"Iris-setosa\")}), '> 5.50': DecisionNode(feature=\"sepalwidth\", children={'<= 3.67': LeafNode(label=\"Iris-versicolor\"), '> 3.67': LeafNode(label=\"Iris-setosa\")})}), '> 4.20': DecisionNode(feature=\"sepalwidth\", children={'<= 2.93': DecisionNode(feature=\"sepallength\", children={'<= 6.03': LeafNode(label=\"Iris-versicolor\"), '> 6.03': LeafNode(label=\"Iris-versicolor\")}), '> 2.93': DecisionNode(feature=\"sepallength\", children={'<= 6.60': LeafNode(label=\"Iris-versicolor\"), '> 6.60': LeafNode(label=\"Iris-versicolor\")})})}), '> 1.70': DecisionNode(feature=\"sepallength\", children={'<= 7.13': DecisionNode(feature=\"sepalwidth\", children={'<= 3.10': LeafNode(label=\"Iris-virginica\"), '> 3.10': DecisionNode(feature=\"petallength\", children={'<= 5.60': LeafNode(label=\"Iris-virginica\"), '> 5.60': LeafNode(label=\"Iris-virginica\")})}), '> 7.13': LeafNode(label=\"Iris-virginica\")})}\n",
      "{'<= 1.70': DecisionNode(feature=\"petallength\", children={'<= 4.20': DecisionNode(feature=\"sepallength\", children={'<= 5.50': DecisionNode(feature=\"sepalwidth\", children={'<= 3.57': LeafNode(label=\"Iris-setosa\"), '> 3.57': LeafNode(label=\"Iris-setosa\")}), '> 5.50': DecisionNode(feature=\"sepalwidth\", children={'<= 3.67': LeafNode(label=\"Iris-versicolor\"), '> 3.67': LeafNode(label=\"Iris-setosa\")})}), '> 4.20': DecisionNode(feature=\"sepalwidth\", children={'<= 2.93': DecisionNode(feature=\"sepallength\", children={'<= 6.03': LeafNode(label=\"Iris-versicolor\"), '> 6.03': LeafNode(label=\"Iris-versicolor\")}), '> 2.93': DecisionNode(feature=\"sepallength\", children={'<= 6.60': LeafNode(label=\"Iris-versicolor\"), '> 6.60': LeafNode(label=\"Iris-versicolor\")})})}), '> 1.70': DecisionNode(feature=\"sepallength\", children={'<= 7.13': DecisionNode(feature=\"sepalwidth\", children={'<= 3.10': LeafNode(label=\"Iris-virginica\"), '> 3.10': DecisionNode(feature=\"petallength\", children={'<= 5.60': LeafNode(label=\"Iris-virginica\"), '> 5.60': LeafNode(label=\"Iris-virginica\")})}), '> 7.13': LeafNode(label=\"Iris-virginica\")})}\n",
      "{'<= 7.13': DecisionNode(feature=\"sepalwidth\", children={'<= 3.10': LeafNode(label=\"Iris-virginica\"), '> 3.10': DecisionNode(feature=\"petallength\", children={'<= 5.60': LeafNode(label=\"Iris-virginica\"), '> 5.60': LeafNode(label=\"Iris-virginica\")})}), '> 7.13': LeafNode(label=\"Iris-virginica\")}\n",
      "{'<= 3.10': LeafNode(label=\"Iris-virginica\"), '> 3.10': DecisionNode(feature=\"petallength\", children={'<= 5.60': LeafNode(label=\"Iris-virginica\"), '> 5.60': LeafNode(label=\"Iris-virginica\")})}\n",
      "{'<= 1.70': DecisionNode(feature=\"petallength\", children={'<= 4.20': DecisionNode(feature=\"sepallength\", children={'<= 5.50': DecisionNode(feature=\"sepalwidth\", children={'<= 3.57': LeafNode(label=\"Iris-setosa\"), '> 3.57': LeafNode(label=\"Iris-setosa\")}), '> 5.50': DecisionNode(feature=\"sepalwidth\", children={'<= 3.67': LeafNode(label=\"Iris-versicolor\"), '> 3.67': LeafNode(label=\"Iris-setosa\")})}), '> 4.20': DecisionNode(feature=\"sepalwidth\", children={'<= 2.93': DecisionNode(feature=\"sepallength\", children={'<= 6.03': LeafNode(label=\"Iris-versicolor\"), '> 6.03': LeafNode(label=\"Iris-versicolor\")}), '> 2.93': DecisionNode(feature=\"sepallength\", children={'<= 6.60': LeafNode(label=\"Iris-versicolor\"), '> 6.60': LeafNode(label=\"Iris-versicolor\")})})}), '> 1.70': DecisionNode(feature=\"sepallength\", children={'<= 7.13': DecisionNode(feature=\"sepalwidth\", children={'<= 3.10': LeafNode(label=\"Iris-virginica\"), '> 3.10': DecisionNode(feature=\"petallength\", children={'<= 5.60': LeafNode(label=\"Iris-virginica\"), '> 5.60': LeafNode(label=\"Iris-virginica\")})}), '> 7.13': LeafNode(label=\"Iris-virginica\")})}\n",
      "{'<= 4.20': DecisionNode(feature=\"sepallength\", children={'<= 5.50': DecisionNode(feature=\"sepalwidth\", children={'<= 3.57': LeafNode(label=\"Iris-setosa\"), '> 3.57': LeafNode(label=\"Iris-setosa\")}), '> 5.50': DecisionNode(feature=\"sepalwidth\", children={'<= 3.67': LeafNode(label=\"Iris-versicolor\"), '> 3.67': LeafNode(label=\"Iris-setosa\")})}), '> 4.20': DecisionNode(feature=\"sepalwidth\", children={'<= 2.93': DecisionNode(feature=\"sepallength\", children={'<= 6.03': LeafNode(label=\"Iris-versicolor\"), '> 6.03': LeafNode(label=\"Iris-versicolor\")}), '> 2.93': DecisionNode(feature=\"sepallength\", children={'<= 6.60': LeafNode(label=\"Iris-versicolor\"), '> 6.60': LeafNode(label=\"Iris-versicolor\")})})}\n",
      "{'<= 5.50': DecisionNode(feature=\"sepalwidth\", children={'<= 3.57': LeafNode(label=\"Iris-setosa\"), '> 3.57': LeafNode(label=\"Iris-setosa\")}), '> 5.50': DecisionNode(feature=\"sepalwidth\", children={'<= 3.67': LeafNode(label=\"Iris-versicolor\"), '> 3.67': LeafNode(label=\"Iris-setosa\")})}\n",
      "{'<= 3.57': LeafNode(label=\"Iris-setosa\"), '> 3.57': LeafNode(label=\"Iris-setosa\")}\n",
      "{'<= 1.70': DecisionNode(feature=\"petallength\", children={'<= 4.20': DecisionNode(feature=\"sepallength\", children={'<= 5.50': DecisionNode(feature=\"sepalwidth\", children={'<= 3.57': LeafNode(label=\"Iris-setosa\"), '> 3.57': LeafNode(label=\"Iris-setosa\")}), '> 5.50': DecisionNode(feature=\"sepalwidth\", children={'<= 3.67': LeafNode(label=\"Iris-versicolor\"), '> 3.67': LeafNode(label=\"Iris-setosa\")})}), '> 4.20': DecisionNode(feature=\"sepalwidth\", children={'<= 2.93': DecisionNode(feature=\"sepallength\", children={'<= 6.03': LeafNode(label=\"Iris-versicolor\"), '> 6.03': LeafNode(label=\"Iris-versicolor\")}), '> 2.93': DecisionNode(feature=\"sepallength\", children={'<= 6.60': LeafNode(label=\"Iris-versicolor\"), '> 6.60': LeafNode(label=\"Iris-versicolor\")})})}), '> 1.70': DecisionNode(feature=\"sepallength\", children={'<= 7.13': DecisionNode(feature=\"sepalwidth\", children={'<= 3.10': LeafNode(label=\"Iris-virginica\"), '> 3.10': DecisionNode(feature=\"petallength\", children={'<= 5.60': LeafNode(label=\"Iris-virginica\"), '> 5.60': LeafNode(label=\"Iris-virginica\")})}), '> 7.13': LeafNode(label=\"Iris-virginica\")})}\n",
      "{'<= 4.20': DecisionNode(feature=\"sepallength\", children={'<= 5.50': DecisionNode(feature=\"sepalwidth\", children={'<= 3.57': LeafNode(label=\"Iris-setosa\"), '> 3.57': LeafNode(label=\"Iris-setosa\")}), '> 5.50': DecisionNode(feature=\"sepalwidth\", children={'<= 3.67': LeafNode(label=\"Iris-versicolor\"), '> 3.67': LeafNode(label=\"Iris-setosa\")})}), '> 4.20': DecisionNode(feature=\"sepalwidth\", children={'<= 2.93': DecisionNode(feature=\"sepallength\", children={'<= 6.03': LeafNode(label=\"Iris-versicolor\"), '> 6.03': LeafNode(label=\"Iris-versicolor\")}), '> 2.93': DecisionNode(feature=\"sepallength\", children={'<= 6.60': LeafNode(label=\"Iris-versicolor\"), '> 6.60': LeafNode(label=\"Iris-versicolor\")})})}\n",
      "{'<= 5.50': DecisionNode(feature=\"sepalwidth\", children={'<= 3.57': LeafNode(label=\"Iris-setosa\"), '> 3.57': LeafNode(label=\"Iris-setosa\")}), '> 5.50': DecisionNode(feature=\"sepalwidth\", children={'<= 3.67': LeafNode(label=\"Iris-versicolor\"), '> 3.67': LeafNode(label=\"Iris-setosa\")})}\n",
      "{'<= 5.50': DecisionNode(feature=\"sepalwidth\", children={'<= 3.57': LeafNode(label=\"Iris-setosa\"), '> 3.57': LeafNode(label=\"Iris-setosa\")}), '> 5.50': DecisionNode(feature=\"sepalwidth\", children={'<= 3.67': LeafNode(label=\"Iris-versicolor\"), '> 3.67': LeafNode(label=\"Iris-setosa\")})}\n",
      "{'<= 3.67': LeafNode(label=\"Iris-versicolor\"), '> 3.67': LeafNode(label=\"Iris-setosa\")}\n",
      "{'<= 1.70': DecisionNode(feature=\"petallength\", children={'<= 4.20': DecisionNode(feature=\"sepallength\", children={'<= 5.50': DecisionNode(feature=\"sepalwidth\", children={'<= 3.57': LeafNode(label=\"Iris-setosa\"), '> 3.57': LeafNode(label=\"Iris-setosa\")}), '> 5.50': DecisionNode(feature=\"sepalwidth\", children={'<= 3.67': LeafNode(label=\"Iris-versicolor\"), '> 3.67': LeafNode(label=\"Iris-setosa\")})}), '> 4.20': DecisionNode(feature=\"sepalwidth\", children={'<= 2.93': DecisionNode(feature=\"sepallength\", children={'<= 6.03': LeafNode(label=\"Iris-versicolor\"), '> 6.03': LeafNode(label=\"Iris-versicolor\")}), '> 2.93': DecisionNode(feature=\"sepallength\", children={'<= 6.60': LeafNode(label=\"Iris-versicolor\"), '> 6.60': LeafNode(label=\"Iris-versicolor\")})})}), '> 1.70': DecisionNode(feature=\"sepallength\", children={'<= 7.13': DecisionNode(feature=\"sepalwidth\", children={'<= 3.10': LeafNode(label=\"Iris-virginica\"), '> 3.10': DecisionNode(feature=\"petallength\", children={'<= 5.60': LeafNode(label=\"Iris-virginica\"), '> 5.60': LeafNode(label=\"Iris-virginica\")})}), '> 7.13': LeafNode(label=\"Iris-virginica\")})}\n",
      "{'<= 4.20': DecisionNode(feature=\"sepallength\", children={'<= 5.50': DecisionNode(feature=\"sepalwidth\", children={'<= 3.57': LeafNode(label=\"Iris-setosa\"), '> 3.57': LeafNode(label=\"Iris-setosa\")}), '> 5.50': DecisionNode(feature=\"sepalwidth\", children={'<= 3.67': LeafNode(label=\"Iris-versicolor\"), '> 3.67': LeafNode(label=\"Iris-setosa\")})}), '> 4.20': DecisionNode(feature=\"sepalwidth\", children={'<= 2.93': DecisionNode(feature=\"sepallength\", children={'<= 6.03': LeafNode(label=\"Iris-versicolor\"), '> 6.03': LeafNode(label=\"Iris-versicolor\")}), '> 2.93': DecisionNode(feature=\"sepallength\", children={'<= 6.60': LeafNode(label=\"Iris-versicolor\"), '> 6.60': LeafNode(label=\"Iris-versicolor\")})})}\n",
      "{'<= 5.50': DecisionNode(feature=\"sepalwidth\", children={'<= 3.57': LeafNode(label=\"Iris-setosa\"), '> 3.57': LeafNode(label=\"Iris-setosa\")}), '> 5.50': DecisionNode(feature=\"sepalwidth\", children={'<= 3.67': LeafNode(label=\"Iris-versicolor\"), '> 3.67': LeafNode(label=\"Iris-setosa\")})}\n",
      "{'<= 3.57': LeafNode(label=\"Iris-setosa\"), '> 3.57': LeafNode(label=\"Iris-setosa\")}\n",
      "{'<= 1.70': DecisionNode(feature=\"petallength\", children={'<= 4.20': DecisionNode(feature=\"sepallength\", children={'<= 5.50': DecisionNode(feature=\"sepalwidth\", children={'<= 3.57': LeafNode(label=\"Iris-setosa\"), '> 3.57': LeafNode(label=\"Iris-setosa\")}), '> 5.50': DecisionNode(feature=\"sepalwidth\", children={'<= 3.67': LeafNode(label=\"Iris-versicolor\"), '> 3.67': LeafNode(label=\"Iris-setosa\")})}), '> 4.20': DecisionNode(feature=\"sepalwidth\", children={'<= 2.93': DecisionNode(feature=\"sepallength\", children={'<= 6.03': LeafNode(label=\"Iris-versicolor\"), '> 6.03': LeafNode(label=\"Iris-versicolor\")}), '> 2.93': DecisionNode(feature=\"sepallength\", children={'<= 6.60': LeafNode(label=\"Iris-versicolor\"), '> 6.60': LeafNode(label=\"Iris-versicolor\")})})}), '> 1.70': DecisionNode(feature=\"sepallength\", children={'<= 7.13': DecisionNode(feature=\"sepalwidth\", children={'<= 3.10': LeafNode(label=\"Iris-virginica\"), '> 3.10': DecisionNode(feature=\"petallength\", children={'<= 5.60': LeafNode(label=\"Iris-virginica\"), '> 5.60': LeafNode(label=\"Iris-virginica\")})}), '> 7.13': LeafNode(label=\"Iris-virginica\")})}\n",
      "{'<= 4.20': DecisionNode(feature=\"sepallength\", children={'<= 5.50': DecisionNode(feature=\"sepalwidth\", children={'<= 3.57': LeafNode(label=\"Iris-setosa\"), '> 3.57': LeafNode(label=\"Iris-setosa\")}), '> 5.50': DecisionNode(feature=\"sepalwidth\", children={'<= 3.67': LeafNode(label=\"Iris-versicolor\"), '> 3.67': LeafNode(label=\"Iris-setosa\")})}), '> 4.20': DecisionNode(feature=\"sepalwidth\", children={'<= 2.93': DecisionNode(feature=\"sepallength\", children={'<= 6.03': LeafNode(label=\"Iris-versicolor\"), '> 6.03': LeafNode(label=\"Iris-versicolor\")}), '> 2.93': DecisionNode(feature=\"sepallength\", children={'<= 6.60': LeafNode(label=\"Iris-versicolor\"), '> 6.60': LeafNode(label=\"Iris-versicolor\")})})}\n",
      "{'<= 5.50': DecisionNode(feature=\"sepalwidth\", children={'<= 3.57': LeafNode(label=\"Iris-setosa\"), '> 3.57': LeafNode(label=\"Iris-setosa\")}), '> 5.50': DecisionNode(feature=\"sepalwidth\", children={'<= 3.67': LeafNode(label=\"Iris-versicolor\"), '> 3.67': LeafNode(label=\"Iris-setosa\")})}\n",
      "{'<= 5.50': DecisionNode(feature=\"sepalwidth\", children={'<= 3.57': LeafNode(label=\"Iris-setosa\"), '> 3.57': LeafNode(label=\"Iris-setosa\")}), '> 5.50': DecisionNode(feature=\"sepalwidth\", children={'<= 3.67': LeafNode(label=\"Iris-versicolor\"), '> 3.67': LeafNode(label=\"Iris-setosa\")})}\n",
      "{'<= 3.67': LeafNode(label=\"Iris-versicolor\"), '> 3.67': LeafNode(label=\"Iris-setosa\")}\n",
      "{'<= 1.70': DecisionNode(feature=\"petallength\", children={'<= 4.20': DecisionNode(feature=\"sepallength\", children={'<= 5.50': DecisionNode(feature=\"sepalwidth\", children={'<= 3.57': LeafNode(label=\"Iris-setosa\"), '> 3.57': LeafNode(label=\"Iris-setosa\")}), '> 5.50': DecisionNode(feature=\"sepalwidth\", children={'<= 3.67': LeafNode(label=\"Iris-versicolor\"), '> 3.67': LeafNode(label=\"Iris-setosa\")})}), '> 4.20': DecisionNode(feature=\"sepalwidth\", children={'<= 2.93': DecisionNode(feature=\"sepallength\", children={'<= 6.03': LeafNode(label=\"Iris-versicolor\"), '> 6.03': LeafNode(label=\"Iris-versicolor\")}), '> 2.93': DecisionNode(feature=\"sepallength\", children={'<= 6.60': LeafNode(label=\"Iris-versicolor\"), '> 6.60': LeafNode(label=\"Iris-versicolor\")})})}), '> 1.70': DecisionNode(feature=\"sepallength\", children={'<= 7.13': DecisionNode(feature=\"sepalwidth\", children={'<= 3.10': LeafNode(label=\"Iris-virginica\"), '> 3.10': DecisionNode(feature=\"petallength\", children={'<= 5.60': LeafNode(label=\"Iris-virginica\"), '> 5.60': LeafNode(label=\"Iris-virginica\")})}), '> 7.13': LeafNode(label=\"Iris-virginica\")})}\n",
      "{'<= 4.20': DecisionNode(feature=\"sepallength\", children={'<= 5.50': DecisionNode(feature=\"sepalwidth\", children={'<= 3.57': LeafNode(label=\"Iris-setosa\"), '> 3.57': LeafNode(label=\"Iris-setosa\")}), '> 5.50': DecisionNode(feature=\"sepalwidth\", children={'<= 3.67': LeafNode(label=\"Iris-versicolor\"), '> 3.67': LeafNode(label=\"Iris-setosa\")})}), '> 4.20': DecisionNode(feature=\"sepalwidth\", children={'<= 2.93': DecisionNode(feature=\"sepallength\", children={'<= 6.03': LeafNode(label=\"Iris-versicolor\"), '> 6.03': LeafNode(label=\"Iris-versicolor\")}), '> 2.93': DecisionNode(feature=\"sepallength\", children={'<= 6.60': LeafNode(label=\"Iris-versicolor\"), '> 6.60': LeafNode(label=\"Iris-versicolor\")})})}\n",
      "{'<= 4.20': DecisionNode(feature=\"sepallength\", children={'<= 5.50': DecisionNode(feature=\"sepalwidth\", children={'<= 3.57': LeafNode(label=\"Iris-setosa\"), '> 3.57': LeafNode(label=\"Iris-setosa\")}), '> 5.50': DecisionNode(feature=\"sepalwidth\", children={'<= 3.67': LeafNode(label=\"Iris-versicolor\"), '> 3.67': LeafNode(label=\"Iris-setosa\")})}), '> 4.20': DecisionNode(feature=\"sepalwidth\", children={'<= 2.93': DecisionNode(feature=\"sepallength\", children={'<= 6.03': LeafNode(label=\"Iris-versicolor\"), '> 6.03': LeafNode(label=\"Iris-versicolor\")}), '> 2.93': DecisionNode(feature=\"sepallength\", children={'<= 6.60': LeafNode(label=\"Iris-versicolor\"), '> 6.60': LeafNode(label=\"Iris-versicolor\")})})}\n",
      "{'<= 2.93': DecisionNode(feature=\"sepallength\", children={'<= 6.03': LeafNode(label=\"Iris-versicolor\"), '> 6.03': LeafNode(label=\"Iris-versicolor\")}), '> 2.93': DecisionNode(feature=\"sepallength\", children={'<= 6.60': LeafNode(label=\"Iris-versicolor\"), '> 6.60': LeafNode(label=\"Iris-versicolor\")})}\n",
      "{'<= 6.03': LeafNode(label=\"Iris-versicolor\"), '> 6.03': LeafNode(label=\"Iris-versicolor\")}\n",
      "{'<= 1.70': DecisionNode(feature=\"petallength\", children={'<= 4.20': DecisionNode(feature=\"sepallength\", children={'<= 5.50': DecisionNode(feature=\"sepalwidth\", children={'<= 3.57': LeafNode(label=\"Iris-setosa\"), '> 3.57': LeafNode(label=\"Iris-setosa\")}), '> 5.50': DecisionNode(feature=\"sepalwidth\", children={'<= 3.67': LeafNode(label=\"Iris-versicolor\"), '> 3.67': LeafNode(label=\"Iris-setosa\")})}), '> 4.20': DecisionNode(feature=\"sepalwidth\", children={'<= 2.93': DecisionNode(feature=\"sepallength\", children={'<= 6.03': LeafNode(label=\"Iris-versicolor\"), '> 6.03': LeafNode(label=\"Iris-versicolor\")}), '> 2.93': DecisionNode(feature=\"sepallength\", children={'<= 6.60': LeafNode(label=\"Iris-versicolor\"), '> 6.60': LeafNode(label=\"Iris-versicolor\")})})}), '> 1.70': DecisionNode(feature=\"sepallength\", children={'<= 7.13': DecisionNode(feature=\"sepalwidth\", children={'<= 3.10': LeafNode(label=\"Iris-virginica\"), '> 3.10': DecisionNode(feature=\"petallength\", children={'<= 5.60': LeafNode(label=\"Iris-virginica\"), '> 5.60': LeafNode(label=\"Iris-virginica\")})}), '> 7.13': LeafNode(label=\"Iris-virginica\")})}\n",
      "{'<= 4.20': DecisionNode(feature=\"sepallength\", children={'<= 5.50': DecisionNode(feature=\"sepalwidth\", children={'<= 3.57': LeafNode(label=\"Iris-setosa\"), '> 3.57': LeafNode(label=\"Iris-setosa\")}), '> 5.50': DecisionNode(feature=\"sepalwidth\", children={'<= 3.67': LeafNode(label=\"Iris-versicolor\"), '> 3.67': LeafNode(label=\"Iris-setosa\")})}), '> 4.20': DecisionNode(feature=\"sepalwidth\", children={'<= 2.93': DecisionNode(feature=\"sepallength\", children={'<= 6.03': LeafNode(label=\"Iris-versicolor\"), '> 6.03': LeafNode(label=\"Iris-versicolor\")}), '> 2.93': DecisionNode(feature=\"sepallength\", children={'<= 6.60': LeafNode(label=\"Iris-versicolor\"), '> 6.60': LeafNode(label=\"Iris-versicolor\")})})}\n",
      "{'<= 4.20': DecisionNode(feature=\"sepallength\", children={'<= 5.50': DecisionNode(feature=\"sepalwidth\", children={'<= 3.57': LeafNode(label=\"Iris-setosa\"), '> 3.57': LeafNode(label=\"Iris-setosa\")}), '> 5.50': DecisionNode(feature=\"sepalwidth\", children={'<= 3.67': LeafNode(label=\"Iris-versicolor\"), '> 3.67': LeafNode(label=\"Iris-setosa\")})}), '> 4.20': DecisionNode(feature=\"sepalwidth\", children={'<= 2.93': DecisionNode(feature=\"sepallength\", children={'<= 6.03': LeafNode(label=\"Iris-versicolor\"), '> 6.03': LeafNode(label=\"Iris-versicolor\")}), '> 2.93': DecisionNode(feature=\"sepallength\", children={'<= 6.60': LeafNode(label=\"Iris-versicolor\"), '> 6.60': LeafNode(label=\"Iris-versicolor\")})})}\n",
      "{'<= 2.93': DecisionNode(feature=\"sepallength\", children={'<= 6.03': LeafNode(label=\"Iris-versicolor\"), '> 6.03': LeafNode(label=\"Iris-versicolor\")}), '> 2.93': DecisionNode(feature=\"sepallength\", children={'<= 6.60': LeafNode(label=\"Iris-versicolor\"), '> 6.60': LeafNode(label=\"Iris-versicolor\")})}\n",
      "{'<= 6.03': LeafNode(label=\"Iris-versicolor\"), '> 6.03': LeafNode(label=\"Iris-versicolor\")}\n",
      "{'<= 6.03': LeafNode(label=\"Iris-versicolor\"), '> 6.03': LeafNode(label=\"Iris-versicolor\")}\n",
      "{'<= 1.70': DecisionNode(feature=\"petallength\", children={'<= 4.20': DecisionNode(feature=\"sepallength\", children={'<= 5.50': DecisionNode(feature=\"sepalwidth\", children={'<= 3.57': LeafNode(label=\"Iris-setosa\"), '> 3.57': LeafNode(label=\"Iris-setosa\")}), '> 5.50': DecisionNode(feature=\"sepalwidth\", children={'<= 3.67': LeafNode(label=\"Iris-versicolor\"), '> 3.67': LeafNode(label=\"Iris-setosa\")})}), '> 4.20': DecisionNode(feature=\"sepalwidth\", children={'<= 2.93': DecisionNode(feature=\"sepallength\", children={'<= 6.03': LeafNode(label=\"Iris-versicolor\"), '> 6.03': LeafNode(label=\"Iris-versicolor\")}), '> 2.93': DecisionNode(feature=\"sepallength\", children={'<= 6.60': LeafNode(label=\"Iris-versicolor\"), '> 6.60': LeafNode(label=\"Iris-versicolor\")})})}), '> 1.70': DecisionNode(feature=\"sepallength\", children={'<= 7.13': DecisionNode(feature=\"sepalwidth\", children={'<= 3.10': LeafNode(label=\"Iris-virginica\"), '> 3.10': DecisionNode(feature=\"petallength\", children={'<= 5.60': LeafNode(label=\"Iris-virginica\"), '> 5.60': LeafNode(label=\"Iris-virginica\")})}), '> 7.13': LeafNode(label=\"Iris-virginica\")})}\n",
      "{'<= 1.70': DecisionNode(feature=\"petallength\", children={'<= 4.20': DecisionNode(feature=\"sepallength\", children={'<= 5.50': DecisionNode(feature=\"sepalwidth\", children={'<= 3.57': LeafNode(label=\"Iris-setosa\"), '> 3.57': LeafNode(label=\"Iris-setosa\")}), '> 5.50': DecisionNode(feature=\"sepalwidth\", children={'<= 3.67': LeafNode(label=\"Iris-versicolor\"), '> 3.67': LeafNode(label=\"Iris-setosa\")})}), '> 4.20': DecisionNode(feature=\"sepalwidth\", children={'<= 2.93': DecisionNode(feature=\"sepallength\", children={'<= 6.03': LeafNode(label=\"Iris-versicolor\"), '> 6.03': LeafNode(label=\"Iris-versicolor\")}), '> 2.93': DecisionNode(feature=\"sepallength\", children={'<= 6.60': LeafNode(label=\"Iris-versicolor\"), '> 6.60': LeafNode(label=\"Iris-versicolor\")})})}), '> 1.70': DecisionNode(feature=\"sepallength\", children={'<= 7.13': DecisionNode(feature=\"sepalwidth\", children={'<= 3.10': LeafNode(label=\"Iris-virginica\"), '> 3.10': DecisionNode(feature=\"petallength\", children={'<= 5.60': LeafNode(label=\"Iris-virginica\"), '> 5.60': LeafNode(label=\"Iris-virginica\")})}), '> 7.13': LeafNode(label=\"Iris-virginica\")})}\n",
      "{'<= 7.13': DecisionNode(feature=\"sepalwidth\", children={'<= 3.10': LeafNode(label=\"Iris-virginica\"), '> 3.10': DecisionNode(feature=\"petallength\", children={'<= 5.60': LeafNode(label=\"Iris-virginica\"), '> 5.60': LeafNode(label=\"Iris-virginica\")})}), '> 7.13': LeafNode(label=\"Iris-virginica\")}\n",
      "{'<= 7.13': DecisionNode(feature=\"sepalwidth\", children={'<= 3.10': LeafNode(label=\"Iris-virginica\"), '> 3.10': DecisionNode(feature=\"petallength\", children={'<= 5.60': LeafNode(label=\"Iris-virginica\"), '> 5.60': LeafNode(label=\"Iris-virginica\")})}), '> 7.13': LeafNode(label=\"Iris-virginica\")}\n"
     ]
    }
   ],
   "source": [
    "prediction = [pred(tree , sample) for _, sample in test_set.iterrows()]"
   ]
  },
  {
   "cell_type": "code",
   "execution_count": 23,
   "id": "1f3f5293-a3a1-41ea-823e-b2bd6d3b03f3",
   "metadata": {},
   "outputs": [
    {
     "name": "stdout",
     "output_type": "stream",
     "text": [
      "acuuracy of tree is 0.93\n"
     ]
    }
   ],
   "source": [
    "print(f'acuuracy of tree is {accuracy_score(prediction , test_set.iloc[: , -1]):.2f}')"
   ]
  },
  {
   "cell_type": "code",
   "execution_count": 24,
   "id": "c1259912-2403-419a-90e3-13d7c3d36e7c",
   "metadata": {},
   "outputs": [],
   "source": [
    "def find_decision_features(node , decision_features = []):\n",
    "    \n",
    "    for key , value in node.children.items():\n",
    "        if value.feature != None:\n",
    "            \n",
    "            decision_features.append(value.feature)\n",
    "            find_decision_features(value)   \n",
    "            \n",
    "    return decision_features"
   ]
  },
  {
   "cell_type": "code",
   "execution_count": 25,
   "id": "df16fb1c-3d66-4e2d-98d6-317a0f48ba3a",
   "metadata": {
    "tags": []
   },
   "outputs": [
    {
     "data": {
      "text/plain": [
       "['petallength',\n",
       " 'sepallength',\n",
       " 'sepalwidth',\n",
       " 'sepalwidth',\n",
       " 'sepalwidth',\n",
       " 'sepallength',\n",
       " 'sepallength',\n",
       " 'sepallength',\n",
       " 'sepalwidth',\n",
       " 'petallength']"
      ]
     },
     "execution_count": 25,
     "metadata": {},
     "output_type": "execute_result"
    }
   ],
   "source": [
    "find_decision_features(tree)"
   ]
  },
  {
   "cell_type": "code",
   "execution_count": 26,
   "id": "27d77ec5-55a0-4260-add5-9a4a0d5af87d",
   "metadata": {
    "collapsed": true,
    "jupyter": {
     "outputs_hidden": true
    },
    "tags": []
   },
   "outputs": [
    {
     "data": {
      "text/plain": [
       "DecisionNode(feature=\"petalwidth\", children={'<= 1.70': DecisionNode(feature=\"petallength\", children={'<= 4.20': DecisionNode(feature=\"sepallength\", children={'<= 5.50': DecisionNode(feature=\"sepalwidth\", children={'<= 3.57': LeafNode(label=\"Iris-setosa\"), '> 3.57': LeafNode(label=\"Iris-setosa\")}), '> 5.50': DecisionNode(feature=\"sepalwidth\", children={'<= 3.67': LeafNode(label=\"Iris-versicolor\"), '> 3.67': LeafNode(label=\"Iris-setosa\")})}), '> 4.20': DecisionNode(feature=\"sepalwidth\", children={'<= 2.93': DecisionNode(feature=\"sepallength\", children={'<= 6.03': LeafNode(label=\"Iris-versicolor\"), '> 6.03': LeafNode(label=\"Iris-versicolor\")}), '> 2.93': DecisionNode(feature=\"sepallength\", children={'<= 6.60': LeafNode(label=\"Iris-versicolor\"), '> 6.60': LeafNode(label=\"Iris-versicolor\")})})}), '> 1.70': DecisionNode(feature=\"sepallength\", children={'<= 7.13': DecisionNode(feature=\"sepalwidth\", children={'<= 3.10': LeafNode(label=\"Iris-virginica\"), '> 3.10': DecisionNode(feature=\"petallength\", children={'<= 5.60': LeafNode(label=\"Iris-virginica\"), '> 5.60': LeafNode(label=\"Iris-virginica\")})}), '> 7.13': LeafNode(label=\"Iris-virginica\")})})"
      ]
     },
     "execution_count": 26,
     "metadata": {},
     "output_type": "execute_result"
    }
   ],
   "source": [
    "tree"
   ]
  },
  {
   "cell_type": "code",
   "execution_count": 85,
   "id": "4ae47681-6b53-49bc-bda2-cd0b3825afce",
   "metadata": {},
   "outputs": [],
   "source": [
    "def find_decision_features(node , decision_nodes = []):\n",
    "    \n",
    "    for key , value in node.children.items():\n",
    "        if value.feature != None:\n",
    "            \n",
    "            decision_nodes.append(node.children[key])\n",
    "            \n",
    "            find_decision_features(value)\n",
    "            \n",
    "    return decision_nodes"
   ]
  },
  {
   "cell_type": "code",
   "execution_count": 86,
   "id": "72489ed6-1ecc-440d-b5ff-ead3e3ff5a9d",
   "metadata": {},
   "outputs": [
    {
     "data": {
      "text/plain": [
       "10"
      ]
     },
     "execution_count": 86,
     "metadata": {},
     "output_type": "execute_result"
    }
   ],
   "source": [
    "decision_features = find_decision_features(tree)\n",
    "len(decision_features)"
   ]
  },
  {
   "cell_type": "code",
   "execution_count": 92,
   "id": "923dd291-0b79-4009-8a66-249b230b1837",
   "metadata": {},
   "outputs": [],
   "source": [
    "decision_features.reverse()"
   ]
  },
  {
   "cell_type": "code",
   "execution_count": 101,
   "id": "f414d2a3-8b19-4fd7-acf3-ff7b20892ec6",
   "metadata": {},
   "outputs": [
    {
     "data": {
      "text/plain": [
       "DecisionNode(feature=\"sepalwidth\", children={'<= 3.10': LeafNode(label=\"Iris-virginica\"), '> 3.10': DecisionNode(feature=\"petallength\", children={'<= 5.60': LeafNode(label=\"Iris-virginica\"), '> 5.60': LeafNode(label=\"Iris-virginica\")})})"
      ]
     },
     "execution_count": 101,
     "metadata": {},
     "output_type": "execute_result"
    }
   ],
   "source": [
    "decision_features[1]"
   ]
  },
  {
   "cell_type": "code",
   "execution_count": 100,
   "id": "ee3139c5-a513-41fd-984d-a7c01fd3a2e6",
   "metadata": {},
   "outputs": [
    {
     "data": {
      "text/plain": [
       "DecisionNode(feature=\"petallength\", children={'<= 5.60': LeafNode(label=\"Iris-virginica\"), '> 5.60': LeafNode(label=\"Iris-virginica\")})"
      ]
     },
     "execution_count": 100,
     "metadata": {},
     "output_type": "execute_result"
    }
   ],
   "source": [
    "decision_features[0]"
   ]
  },
  {
   "cell_type": "code",
   "execution_count": 105,
   "id": "7d517ec3-00c5-45ec-afa4-d6149f9f0020",
   "metadata": {},
   "outputs": [
    {
     "name": "stdout",
     "output_type": "stream",
     "text": [
      "DecisionNode(feature=\"petallength\", children={'<= 5.60': LeafNode(label=\"Iris-virginica\"), '> 5.60': LeafNode(label=\"Iris-virginica\")})\n",
      "DecisionNode(feature=\"petallength\", children={'<= 5.60': LeafNode(label=\"Iris-virginica\"), '> 5.60': LeafNode(label=\"Iris-virginica\")})\n",
      "DecisionNode(feature=\"sepalwidth\", children={'<= 3.10': LeafNode(label=\"Iris-virginica\"), '> 3.10': DecisionNode(feature=\"petallength\", children={'<= 5.60': LeafNode(label=\"Iris-virginica\"), '> 5.60': LeafNode(label=\"Iris-virginica\")})})\n",
      "DecisionNode(feature=\"sepallength\", children={'<= 7.13': DecisionNode(feature=\"sepalwidth\", children={'<= 3.10': LeafNode(label=\"Iris-virginica\"), '> 3.10': DecisionNode(feature=\"petallength\", children={'<= 5.60': LeafNode(label=\"Iris-virginica\"), '> 5.60': LeafNode(label=\"Iris-virginica\")})}), '> 7.13': LeafNode(label=\"Iris-virginica\")})\n",
      "DecisionNode(feature=\"sepallength\", children={'<= 6.60': LeafNode(label=\"Iris-versicolor\"), '> 6.60': LeafNode(label=\"Iris-versicolor\")})\n",
      "DecisionNode(feature=\"sepallength\", children={'<= 6.60': LeafNode(label=\"Iris-versicolor\"), '> 6.60': LeafNode(label=\"Iris-versicolor\")})\n",
      "DecisionNode(feature=\"sepallength\", children={'<= 6.03': LeafNode(label=\"Iris-versicolor\"), '> 6.03': LeafNode(label=\"Iris-versicolor\")})\n",
      "DecisionNode(feature=\"sepallength\", children={'<= 6.03': LeafNode(label=\"Iris-versicolor\"), '> 6.03': LeafNode(label=\"Iris-versicolor\")})\n",
      "DecisionNode(feature=\"sepalwidth\", children={'<= 3.67': LeafNode(label=\"Iris-versicolor\"), '> 3.67': LeafNode(label=\"Iris-setosa\")})\n",
      "DecisionNode(feature=\"sepalwidth\", children={'<= 3.67': LeafNode(label=\"Iris-versicolor\"), '> 3.67': LeafNode(label=\"Iris-setosa\")})\n",
      "DecisionNode(feature=\"sepalwidth\", children={'<= 3.57': LeafNode(label=\"Iris-setosa\"), '> 3.57': LeafNode(label=\"Iris-setosa\")})\n",
      "DecisionNode(feature=\"sepalwidth\", children={'<= 3.57': LeafNode(label=\"Iris-setosa\"), '> 3.57': LeafNode(label=\"Iris-setosa\")})\n"
     ]
    }
   ],
   "source": [
    "for i , des_feature in enumerate(decision_features):\n",
    "    keys = des_feature.children.keys()\n",
    "    for key in keys:\n",
    "        if des_feature.children[key].feature == None:\n",
    "            print(des_feature)\n",
    "    "
   ]
  },
  {
   "cell_type": "code",
   "execution_count": null,
   "id": "2e151b75-0860-4348-bbf9-d0709e11444c",
   "metadata": {},
   "outputs": [],
   "source": []
  }
 ],
 "metadata": {
  "kernelspec": {
   "display_name": "Python 3",
   "language": "python",
   "name": "python3"
  },
  "language_info": {
   "codemirror_mode": {
    "name": "ipython",
    "version": 3
   },
   "file_extension": ".py",
   "mimetype": "text/x-python",
   "name": "python",
   "nbconvert_exporter": "python",
   "pygments_lexer": "ipython3",
   "version": "3.7.16"
  }
 },
 "nbformat": 4,
 "nbformat_minor": 5
}
